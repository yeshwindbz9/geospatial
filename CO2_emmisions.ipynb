{
  "cells": [
    {
      "cell_type": "markdown",
      "metadata": {
        "id": "Qkr8uXnoLIMJ"
      },
      "source": [
        "# Geospatial Mapping of Global CO2 emissions\n"
      ]
    },
    {
      "cell_type": "markdown",
      "metadata": {
        "id": "PERvaGJ6LIMK"
      },
      "source": [
        "<div class=\"alert alert-block alert-info\">\n",
        "    \n",
        " <span style='font-family:Georgia'> This task requires you to use the dataset, World_CO2.csv. The dataset contains CO2 emission (in kt) corresponding to the various countries. Use the GeoPandas or similar Python based GIS tool to plot a choropleth map representing the world CO2 emissions for the year 2015. \n",
        "     \n",
        " <span style='font-family:Georgia'> The solution for this task should describe all the major steps taken for generating the choropleth map. All the functions, libraries and coding steps should be explained in a lucid manner. The major steps for generating the choropleth would typically involve, importing the datasets using appropriate Python libraries, data cleaning, geospatial operations, and plotting. The Jupyter notebook should be able to reproduce the choropleth maps without any error. \n",
        " \n",
        "</div>"
      ]
    },
    {
      "cell_type": "markdown",
      "metadata": {
        "id": "ID7mXV-tLIMK"
      },
      "source": [
        "<div class=\"alert alert-block alert-info\">\n",
        "    \n",
        " <span style='font-family:Georgia'> HINT 1: To plot choropleth maps during the studio session, we used naturalearth_lowres data available with GeoPandas. The geometry column played key role in transforming the polygon geometry of each country into corresponding map. In the World_CO2.csv we do not have such geometry column. On the other hand, we do have a column for country code. Can you notice similar kind of country code in naturalearth_lowres data? If yes, then can you think of a join operation which could enable you to use the geometry column of naturalearth_lowres for generating the desired choropleth map (Global CO2 emissions)? \n",
        " \n",
        "</div>"
      ]
    },
    {
      "cell_type": "markdown",
      "metadata": {
        "id": "VMO0y5KyLIML"
      },
      "source": [
        "<div class=\"alert alert-block alert-info\">\n",
        "    \n",
        " <span style='font-family:Georgia'> HINT 2: You may need to perform some data cleaning as part of the data pre-processing. This could involve removing the countries for which no or minimal data are available. This could also involve taking care of any missing values.\n",
        "</div>"
      ]
    },
    {
      "cell_type": "markdown",
      "metadata": {
        "id": "-FII6tc4LIMM"
      },
      "source": [
        "<div class=\"alert alert-block alert-info\">\n",
        "    \n",
        " <span style='font-family:Georgia'> Upon completion of the above exercise, you should now be able to complete the Task 1.1 of the assignment. The data to be used in the assessment is also adopted from the same source, the World Bank. You can follow the similar types of steps for generating the chororpleths as required in the Task 1.1. Please note that you must attempt the assignment independently. The ideas discussed during this workhsop session can be used to find the solution to the Task 1.1 but you must describe the steps in your own words without indulging in any forms of Academic Unfair Practice.\n",
        "</div>"
      ]
    },
    {
      "cell_type": "markdown",
      "metadata": {
        "id": "hIOk6ou7LIMN"
      },
      "source": [
        "# Workshop deliverable"
      ]
    },
    {
      "cell_type": "markdown",
      "metadata": {
        "id": "R6n70hyULIMO"
      },
      "source": [
        "You are required to submit a copy of this solved Jupyter notebook through the Workshop 6 Submission Point on the Moodle. Please note that your submission should only contain the workshop task and you must NOT submit any actual task of the assessment at this stage."
      ]
    },
    {
      "cell_type": "markdown",
      "metadata": {
        "id": "jV46b2_0Q0uc"
      },
      "source": [
        "### Imports"
      ]
    },
    {
      "cell_type": "code",
      "execution_count": 459,
      "metadata": {
        "id": "fLf-i3G2MMBf"
      },
      "outputs": [],
      "source": [
        "import geopandas as gpd\n",
        "import pandas as pd\n",
        "import matplotlib.pyplot as plt\n",
        "import seaborn as sns\n",
        "import geoplot as gplt"
      ]
    },
    {
      "cell_type": "markdown",
      "metadata": {
        "id": "a-W2MBG0Q7uX"
      },
      "source": [
        "### Reading dataset and performing analysis"
      ]
    },
    {
      "cell_type": "code",
      "execution_count": 460,
      "metadata": {
        "id": "Y81g-wmUMUl8"
      },
      "outputs": [],
      "source": [
        "df = pd.read_csv(\"World_CO2.csv\", header=2)"
      ]
    },
    {
      "cell_type": "code",
      "execution_count": 461,
      "metadata": {
        "colab": {
          "base_uri": "https://localhost:8080/",
          "height": 490
        },
        "id": "UPuZiCMrMvbi",
        "outputId": "f4e7b93d-7aff-4a70-8a5c-5c295aeb6df0"
      },
      "outputs": [
        {
          "data": {
            "text/html": [
              "\n",
              "  <div id=\"df-3d48baeb-8f3a-4847-89a8-bf2e81de6012\">\n",
              "    <div class=\"colab-df-container\">\n",
              "      <div>\n",
              "<style scoped>\n",
              "    .dataframe tbody tr th:only-of-type {\n",
              "        vertical-align: middle;\n",
              "    }\n",
              "\n",
              "    .dataframe tbody tr th {\n",
              "        vertical-align: top;\n",
              "    }\n",
              "\n",
              "    .dataframe thead th {\n",
              "        text-align: right;\n",
              "    }\n",
              "</style>\n",
              "<table border=\"1\" class=\"dataframe\">\n",
              "  <thead>\n",
              "    <tr style=\"text-align: right;\">\n",
              "      <th></th>\n",
              "      <th>Country Name</th>\n",
              "      <th>Country Code</th>\n",
              "      <th>Indicator Name</th>\n",
              "      <th>Indicator Code</th>\n",
              "      <th>1960</th>\n",
              "      <th>1961</th>\n",
              "      <th>1962</th>\n",
              "      <th>1963</th>\n",
              "      <th>1964</th>\n",
              "      <th>1965</th>\n",
              "      <th>...</th>\n",
              "      <th>2012</th>\n",
              "      <th>2013</th>\n",
              "      <th>2014</th>\n",
              "      <th>2015</th>\n",
              "      <th>2016</th>\n",
              "      <th>2017</th>\n",
              "      <th>2018</th>\n",
              "      <th>2019</th>\n",
              "      <th>2020</th>\n",
              "      <th>Unnamed: 65</th>\n",
              "    </tr>\n",
              "  </thead>\n",
              "  <tbody>\n",
              "    <tr>\n",
              "      <th>0</th>\n",
              "      <td>Aruba</td>\n",
              "      <td>ABW</td>\n",
              "      <td>CO2 emissions (kt)</td>\n",
              "      <td>EN.ATM.CO2E.KT</td>\n",
              "      <td>11092.675</td>\n",
              "      <td>11576.719</td>\n",
              "      <td>12713.489</td>\n",
              "      <td>12178.107</td>\n",
              "      <td>11840.743</td>\n",
              "      <td>10623.299</td>\n",
              "      <td>...</td>\n",
              "      <td>1349.456</td>\n",
              "      <td>861.745</td>\n",
              "      <td>872.746</td>\n",
              "      <td>898.415</td>\n",
              "      <td>883.747</td>\n",
              "      <td>NaN</td>\n",
              "      <td>NaN</td>\n",
              "      <td>NaN</td>\n",
              "      <td>NaN</td>\n",
              "      <td>NaN</td>\n",
              "    </tr>\n",
              "    <tr>\n",
              "      <th>1</th>\n",
              "      <td>Afghanistan</td>\n",
              "      <td>AFG</td>\n",
              "      <td>CO2 emissions (kt)</td>\n",
              "      <td>EN.ATM.CO2E.KT</td>\n",
              "      <td>414.371</td>\n",
              "      <td>491.378</td>\n",
              "      <td>689.396</td>\n",
              "      <td>707.731</td>\n",
              "      <td>839.743</td>\n",
              "      <td>1008.425</td>\n",
              "      <td>...</td>\n",
              "      <td>10755.311</td>\n",
              "      <td>9050.156</td>\n",
              "      <td>8467.103</td>\n",
              "      <td>9035.488</td>\n",
              "      <td>8672.455</td>\n",
              "      <td>NaN</td>\n",
              "      <td>NaN</td>\n",
              "      <td>NaN</td>\n",
              "      <td>NaN</td>\n",
              "      <td>NaN</td>\n",
              "    </tr>\n",
              "    <tr>\n",
              "      <th>2</th>\n",
              "      <td>Angola</td>\n",
              "      <td>AGO</td>\n",
              "      <td>CO2 emissions (kt)</td>\n",
              "      <td>EN.ATM.CO2E.KT</td>\n",
              "      <td>550.050</td>\n",
              "      <td>454.708</td>\n",
              "      <td>1180.774</td>\n",
              "      <td>1151.438</td>\n",
              "      <td>1224.778</td>\n",
              "      <td>1188.108</td>\n",
              "      <td>...</td>\n",
              "      <td>34176.440</td>\n",
              "      <td>33692.396</td>\n",
              "      <td>44851.077</td>\n",
              "      <td>34583.477</td>\n",
              "      <td>34693.487</td>\n",
              "      <td>NaN</td>\n",
              "      <td>NaN</td>\n",
              "      <td>NaN</td>\n",
              "      <td>NaN</td>\n",
              "      <td>NaN</td>\n",
              "    </tr>\n",
              "    <tr>\n",
              "      <th>3</th>\n",
              "      <td>Albania</td>\n",
              "      <td>ALB</td>\n",
              "      <td>CO2 emissions (kt)</td>\n",
              "      <td>EN.ATM.CO2E.KT</td>\n",
              "      <td>2024.184</td>\n",
              "      <td>2280.874</td>\n",
              "      <td>2464.224</td>\n",
              "      <td>2082.856</td>\n",
              "      <td>2016.850</td>\n",
              "      <td>2174.531</td>\n",
              "      <td>...</td>\n",
              "      <td>4924.781</td>\n",
              "      <td>4913.780</td>\n",
              "      <td>5489.499</td>\n",
              "      <td>4616.753</td>\n",
              "      <td>4536.079</td>\n",
              "      <td>NaN</td>\n",
              "      <td>NaN</td>\n",
              "      <td>NaN</td>\n",
              "      <td>NaN</td>\n",
              "      <td>NaN</td>\n",
              "    </tr>\n",
              "    <tr>\n",
              "      <th>4</th>\n",
              "      <td>Andorra</td>\n",
              "      <td>AND</td>\n",
              "      <td>CO2 emissions (kt)</td>\n",
              "      <td>EN.ATM.CO2E.KT</td>\n",
              "      <td>NaN</td>\n",
              "      <td>NaN</td>\n",
              "      <td>NaN</td>\n",
              "      <td>NaN</td>\n",
              "      <td>NaN</td>\n",
              "      <td>NaN</td>\n",
              "      <td>...</td>\n",
              "      <td>487.711</td>\n",
              "      <td>476.710</td>\n",
              "      <td>462.042</td>\n",
              "      <td>465.709</td>\n",
              "      <td>469.376</td>\n",
              "      <td>NaN</td>\n",
              "      <td>NaN</td>\n",
              "      <td>NaN</td>\n",
              "      <td>NaN</td>\n",
              "      <td>NaN</td>\n",
              "    </tr>\n",
              "  </tbody>\n",
              "</table>\n",
              "<p>5 rows × 66 columns</p>\n",
              "</div>\n",
              "      <button class=\"colab-df-convert\" onclick=\"convertToInteractive('df-3d48baeb-8f3a-4847-89a8-bf2e81de6012')\"\n",
              "              title=\"Convert this dataframe to an interactive table.\"\n",
              "              style=\"display:none;\">\n",
              "        \n",
              "  <svg xmlns=\"http://www.w3.org/2000/svg\" height=\"24px\"viewBox=\"0 0 24 24\"\n",
              "       width=\"24px\">\n",
              "    <path d=\"M0 0h24v24H0V0z\" fill=\"none\"/>\n",
              "    <path d=\"M18.56 5.44l.94 2.06.94-2.06 2.06-.94-2.06-.94-.94-2.06-.94 2.06-2.06.94zm-11 1L8.5 8.5l.94-2.06 2.06-.94-2.06-.94L8.5 2.5l-.94 2.06-2.06.94zm10 10l.94 2.06.94-2.06 2.06-.94-2.06-.94-.94-2.06-.94 2.06-2.06.94z\"/><path d=\"M17.41 7.96l-1.37-1.37c-.4-.4-.92-.59-1.43-.59-.52 0-1.04.2-1.43.59L10.3 9.45l-7.72 7.72c-.78.78-.78 2.05 0 2.83L4 21.41c.39.39.9.59 1.41.59.51 0 1.02-.2 1.41-.59l7.78-7.78 2.81-2.81c.8-.78.8-2.07 0-2.86zM5.41 20L4 18.59l7.72-7.72 1.47 1.35L5.41 20z\"/>\n",
              "  </svg>\n",
              "      </button>\n",
              "      \n",
              "  <style>\n",
              "    .colab-df-container {\n",
              "      display:flex;\n",
              "      flex-wrap:wrap;\n",
              "      gap: 12px;\n",
              "    }\n",
              "\n",
              "    .colab-df-convert {\n",
              "      background-color: #E8F0FE;\n",
              "      border: none;\n",
              "      border-radius: 50%;\n",
              "      cursor: pointer;\n",
              "      display: none;\n",
              "      fill: #1967D2;\n",
              "      height: 32px;\n",
              "      padding: 0 0 0 0;\n",
              "      width: 32px;\n",
              "    }\n",
              "\n",
              "    .colab-df-convert:hover {\n",
              "      background-color: #E2EBFA;\n",
              "      box-shadow: 0px 1px 2px rgba(60, 64, 67, 0.3), 0px 1px 3px 1px rgba(60, 64, 67, 0.15);\n",
              "      fill: #174EA6;\n",
              "    }\n",
              "\n",
              "    [theme=dark] .colab-df-convert {\n",
              "      background-color: #3B4455;\n",
              "      fill: #D2E3FC;\n",
              "    }\n",
              "\n",
              "    [theme=dark] .colab-df-convert:hover {\n",
              "      background-color: #434B5C;\n",
              "      box-shadow: 0px 1px 3px 1px rgba(0, 0, 0, 0.15);\n",
              "      filter: drop-shadow(0px 1px 2px rgba(0, 0, 0, 0.3));\n",
              "      fill: #FFFFFF;\n",
              "    }\n",
              "  </style>\n",
              "\n",
              "      <script>\n",
              "        const buttonEl =\n",
              "          document.querySelector('#df-3d48baeb-8f3a-4847-89a8-bf2e81de6012 button.colab-df-convert');\n",
              "        buttonEl.style.display =\n",
              "          google.colab.kernel.accessAllowed ? 'block' : 'none';\n",
              "\n",
              "        async function convertToInteractive(key) {\n",
              "          const element = document.querySelector('#df-3d48baeb-8f3a-4847-89a8-bf2e81de6012');\n",
              "          const dataTable =\n",
              "            await google.colab.kernel.invokeFunction('convertToInteractive',\n",
              "                                                     [key], {});\n",
              "          if (!dataTable) return;\n",
              "\n",
              "          const docLinkHtml = 'Like what you see? Visit the ' +\n",
              "            '<a target=\"_blank\" href=https://colab.research.google.com/notebooks/data_table.ipynb>data table notebook</a>'\n",
              "            + ' to learn more about interactive tables.';\n",
              "          element.innerHTML = '';\n",
              "          dataTable['output_type'] = 'display_data';\n",
              "          await google.colab.output.renderOutput(dataTable, element);\n",
              "          const docLink = document.createElement('div');\n",
              "          docLink.innerHTML = docLinkHtml;\n",
              "          element.appendChild(docLink);\n",
              "        }\n",
              "      </script>\n",
              "    </div>\n",
              "  </div>\n",
              "  "
            ],
            "text/plain": [
              "  Country Name Country Code      Indicator Name  Indicator Code       1960  \\\n",
              "0        Aruba          ABW  CO2 emissions (kt)  EN.ATM.CO2E.KT  11092.675   \n",
              "1  Afghanistan          AFG  CO2 emissions (kt)  EN.ATM.CO2E.KT    414.371   \n",
              "2       Angola          AGO  CO2 emissions (kt)  EN.ATM.CO2E.KT    550.050   \n",
              "3      Albania          ALB  CO2 emissions (kt)  EN.ATM.CO2E.KT   2024.184   \n",
              "4      Andorra          AND  CO2 emissions (kt)  EN.ATM.CO2E.KT        NaN   \n",
              "\n",
              "        1961       1962       1963       1964       1965  ...       2012  \\\n",
              "0  11576.719  12713.489  12178.107  11840.743  10623.299  ...   1349.456   \n",
              "1    491.378    689.396    707.731    839.743   1008.425  ...  10755.311   \n",
              "2    454.708   1180.774   1151.438   1224.778   1188.108  ...  34176.440   \n",
              "3   2280.874   2464.224   2082.856   2016.850   2174.531  ...   4924.781   \n",
              "4        NaN        NaN        NaN        NaN        NaN  ...    487.711   \n",
              "\n",
              "        2013       2014       2015       2016  2017  2018  2019  2020  \\\n",
              "0    861.745    872.746    898.415    883.747   NaN   NaN   NaN   NaN   \n",
              "1   9050.156   8467.103   9035.488   8672.455   NaN   NaN   NaN   NaN   \n",
              "2  33692.396  44851.077  34583.477  34693.487   NaN   NaN   NaN   NaN   \n",
              "3   4913.780   5489.499   4616.753   4536.079   NaN   NaN   NaN   NaN   \n",
              "4    476.710    462.042    465.709    469.376   NaN   NaN   NaN   NaN   \n",
              "\n",
              "   Unnamed: 65  \n",
              "0          NaN  \n",
              "1          NaN  \n",
              "2          NaN  \n",
              "3          NaN  \n",
              "4          NaN  \n",
              "\n",
              "[5 rows x 66 columns]"
            ]
          },
          "execution_count": 461,
          "metadata": {},
          "output_type": "execute_result"
        }
      ],
      "source": [
        "df.head() # checking the first five rows"
      ]
    },
    {
      "cell_type": "code",
      "execution_count": 462,
      "metadata": {
        "colab": {
          "base_uri": "https://localhost:8080/"
        },
        "id": "kld1F5xSSrO-",
        "outputId": "b03dd092-93d6-4550-a48b-11f76ab85c6a"
      },
      "outputs": [
        {
          "data": {
            "text/plain": [
              "(264, 66)"
            ]
          },
          "execution_count": 462,
          "metadata": {},
          "output_type": "execute_result"
        }
      ],
      "source": [
        "df.shape # checking the shape"
      ]
    },
    {
      "cell_type": "code",
      "execution_count": 463,
      "metadata": {
        "colab": {
          "base_uri": "https://localhost:8080/"
        },
        "id": "iUOUzbSTNcWj",
        "outputId": "8339dc34-75af-42a4-f7e4-3b7d63ba6557"
      },
      "outputs": [
        {
          "name": "stdout",
          "output_type": "stream",
          "text": [
            "<class 'pandas.core.frame.DataFrame'>\n",
            "RangeIndex: 264 entries, 0 to 263\n",
            "Data columns (total 66 columns):\n",
            " #   Column          Non-Null Count  Dtype  \n",
            "---  ------          --------------  -----  \n",
            " 0   Country Name    264 non-null    object \n",
            " 1   Country Code    264 non-null    object \n",
            " 2   Indicator Name  264 non-null    object \n",
            " 3   Indicator Code  264 non-null    object \n",
            " 4   1960            201 non-null    float64\n",
            " 5   1961            202 non-null    float64\n",
            " 6   1962            204 non-null    float64\n",
            " 7   1963            205 non-null    float64\n",
            " 8   1964            211 non-null    float64\n",
            " 9   1965            211 non-null    float64\n",
            " 10  1966            211 non-null    float64\n",
            " 11  1967            211 non-null    float64\n",
            " 12  1968            211 non-null    float64\n",
            " 13  1969            211 non-null    float64\n",
            " 14  1970            212 non-null    float64\n",
            " 15  1971            213 non-null    float64\n",
            " 16  1972            214 non-null    float64\n",
            " 17  1973            214 non-null    float64\n",
            " 18  1974            214 non-null    float64\n",
            " 19  1975            214 non-null    float64\n",
            " 20  1976            214 non-null    float64\n",
            " 21  1977            214 non-null    float64\n",
            " 22  1978            214 non-null    float64\n",
            " 23  1979            214 non-null    float64\n",
            " 24  1980            214 non-null    float64\n",
            " 25  1981            214 non-null    float64\n",
            " 26  1982            214 non-null    float64\n",
            " 27  1983            214 non-null    float64\n",
            " 28  1984            214 non-null    float64\n",
            " 29  1985            214 non-null    float64\n",
            " 30  1986            214 non-null    float64\n",
            " 31  1987            214 non-null    float64\n",
            " 32  1988            214 non-null    float64\n",
            " 33  1989            214 non-null    float64\n",
            " 34  1990            221 non-null    float64\n",
            " 35  1991            223 non-null    float64\n",
            " 36  1992            244 non-null    float64\n",
            " 37  1993            244 non-null    float64\n",
            " 38  1994            245 non-null    float64\n",
            " 39  1995            245 non-null    float64\n",
            " 40  1996            245 non-null    float64\n",
            " 41  1997            245 non-null    float64\n",
            " 42  1998            245 non-null    float64\n",
            " 43  1999            245 non-null    float64\n",
            " 44  2000            245 non-null    float64\n",
            " 45  2001            245 non-null    float64\n",
            " 46  2002            246 non-null    float64\n",
            " 47  2003            246 non-null    float64\n",
            " 48  2004            246 non-null    float64\n",
            " 49  2005            247 non-null    float64\n",
            " 50  2006            248 non-null    float64\n",
            " 51  2007            249 non-null    float64\n",
            " 52  2008            250 non-null    float64\n",
            " 53  2009            250 non-null    float64\n",
            " 54  2010            250 non-null    float64\n",
            " 55  2011            250 non-null    float64\n",
            " 56  2012            253 non-null    float64\n",
            " 57  2013            253 non-null    float64\n",
            " 58  2014            253 non-null    float64\n",
            " 59  2015            250 non-null    float64\n",
            " 60  2016            250 non-null    float64\n",
            " 61  2017            0 non-null      float64\n",
            " 62  2018            0 non-null      float64\n",
            " 63  2019            0 non-null      float64\n",
            " 64  2020            0 non-null      float64\n",
            " 65  Unnamed: 65     0 non-null      float64\n",
            "dtypes: float64(62), object(4)\n",
            "memory usage: 136.2+ KB\n"
          ]
        }
      ],
      "source": [
        "df.info() # df.describe()"
      ]
    },
    {
      "cell_type": "markdown",
      "metadata": {
        "id": "6subd0bbRDYv"
      },
      "source": [
        "### Handling null values and cleaning the dataset"
      ]
    },
    {
      "cell_type": "code",
      "execution_count": 464,
      "metadata": {
        "colab": {
          "base_uri": "https://localhost:8080/"
        },
        "id": "MkZSMC8FNsWb",
        "outputId": "e9faa803-60be-42fe-fe49-7425ebff6b67"
      },
      "outputs": [
        {
          "data": {
            "text/plain": [
              "1960            63\n",
              "1961            62\n",
              "1962            60\n",
              "1963            59\n",
              "1964            53\n",
              "              ... \n",
              "2017           264\n",
              "2018           264\n",
              "2019           264\n",
              "2020           264\n",
              "Unnamed: 65    264\n",
              "Length: 62, dtype: int64"
            ]
          },
          "execution_count": 464,
          "metadata": {},
          "output_type": "execute_result"
        }
      ],
      "source": [
        "null_counts = df.isnull().sum() # checking for null values before cleaning\n",
        "null_counts[null_counts > 0] # sum of null values per feature or column"
      ]
    },
    {
      "cell_type": "code",
      "execution_count": 465,
      "metadata": {
        "colab": {
          "base_uri": "https://localhost:8080/",
          "height": 295
        },
        "id": "Cd2U7b76RVvP",
        "outputId": "816a22ca-40c3-429a-95d8-81ba4e01ffc0"
      },
      "outputs": [
        {
          "data": {
            "text/plain": [
              "<matplotlib.axes._subplots.AxesSubplot at 0x7fc861712e10>"
            ]
          },
          "execution_count": 465,
          "metadata": {},
          "output_type": "execute_result"
        },
        {
          "data": {
            "image/png": "[encoded data removed]",
            "text/plain": [
              "<Figure size 432x288 with 1 Axes>"
            ]
          },
          "metadata": {
            "needs_background": "light"
          },
          "output_type": "display_data"
        }
      ],
      "source": [
        "sns.heatmap(df.isna().T, cbar=False) # visualizing the null values for the dataset using a heatmap"
      ]
    },
    {
      "cell_type": "code",
      "execution_count": 466,
      "metadata": {
        "id": "IAodd3jMPrqG"
      },
      "outputs": [],
      "source": [
        "# df = df.drop(['2016', '2017', '2018', '2019', '2020'], axis=1) # since 2016 - 2020 contains no data\n",
        "# df = df.drop('Unnamed: 65', axis=1) # not cleaning the whole dataset for now\n",
        "df = df[['Country Code', 'Indicator Name', '2015']]\n",
        "# df = df.dropna() # dropping the remaining null values\n"
      ]
    },
    {
      "cell_type": "code",
      "execution_count": 467,
      "metadata": {
        "colab": {
          "base_uri": "https://localhost:8080/"
        },
        "id": "sT6x_o8TSXW-",
        "outputId": "bb946d65-3521-418a-83bf-73125c37588c"
      },
      "outputs": [
        {
          "data": {
            "text/plain": [
              "2015    14\n",
              "dtype: int64"
            ]
          },
          "execution_count": 467,
          "metadata": {},
          "output_type": "execute_result"
        }
      ],
      "source": [
        "null_counts = df.isnull().sum() # checking the sum of null values again after cleaning\n",
        "null_counts[null_counts > 0] # empty dataset means no more null values"
      ]
    },
    {
      "cell_type": "code",
      "execution_count": 468,
      "metadata": {
        "colab": {
          "base_uri": "https://localhost:8080/"
        },
        "id": "xzj--XQTSX6t",
        "outputId": "d0fa8c8b-72af-47f1-ff66-7c6ac903b790"
      },
      "outputs": [
        {
          "data": {
            "text/plain": [
              "(264, 3)"
            ]
          },
          "execution_count": 468,
          "metadata": {},
          "output_type": "execute_result"
        }
      ],
      "source": [
        "df.shape # checking the shape after cleaning the dataset"
      ]
    },
    {
      "cell_type": "code",
      "execution_count": 469,
      "metadata": {
        "colab": {
          "base_uri": "https://localhost:8080/",
          "height": 206
        },
        "id": "neHLx_L7S1dU",
        "outputId": "f3de63ff-3ec6-4da8-a389-001e350623ff"
      },
      "outputs": [
        {
          "data": {
            "text/html": [
              "\n",
              "  <div id=\"df-66b92938-e1ba-4f86-ad17-fe7a407a097d\">\n",
              "    <div class=\"colab-df-container\">\n",
              "      <div>\n",
              "<style scoped>\n",
              "    .dataframe tbody tr th:only-of-type {\n",
              "        vertical-align: middle;\n",
              "    }\n",
              "\n",
              "    .dataframe tbody tr th {\n",
              "        vertical-align: top;\n",
              "    }\n",
              "\n",
              "    .dataframe thead th {\n",
              "        text-align: right;\n",
              "    }\n",
              "</style>\n",
              "<table border=\"1\" class=\"dataframe\">\n",
              "  <thead>\n",
              "    <tr style=\"text-align: right;\">\n",
              "      <th></th>\n",
              "      <th>Country Code</th>\n",
              "      <th>Indicator Name</th>\n",
              "      <th>2015</th>\n",
              "    </tr>\n",
              "  </thead>\n",
              "  <tbody>\n",
              "    <tr>\n",
              "      <th>0</th>\n",
              "      <td>ABW</td>\n",
              "      <td>CO2 emissions (kt)</td>\n",
              "      <td>898.415</td>\n",
              "    </tr>\n",
              "    <tr>\n",
              "      <th>1</th>\n",
              "      <td>AFG</td>\n",
              "      <td>CO2 emissions (kt)</td>\n",
              "      <td>9035.488</td>\n",
              "    </tr>\n",
              "    <tr>\n",
              "      <th>2</th>\n",
              "      <td>AGO</td>\n",
              "      <td>CO2 emissions (kt)</td>\n",
              "      <td>34583.477</td>\n",
              "    </tr>\n",
              "    <tr>\n",
              "      <th>3</th>\n",
              "      <td>ALB</td>\n",
              "      <td>CO2 emissions (kt)</td>\n",
              "      <td>4616.753</td>\n",
              "    </tr>\n",
              "    <tr>\n",
              "      <th>4</th>\n",
              "      <td>AND</td>\n",
              "      <td>CO2 emissions (kt)</td>\n",
              "      <td>465.709</td>\n",
              "    </tr>\n",
              "  </tbody>\n",
              "</table>\n",
              "</div>\n",
              "      <button class=\"colab-df-convert\" onclick=\"convertToInteractive('df-66b92938-e1ba-4f86-ad17-fe7a407a097d')\"\n",
              "              title=\"Convert this dataframe to an interactive table.\"\n",
              "              style=\"display:none;\">\n",
              "        \n",
              "  <svg xmlns=\"http://www.w3.org/2000/svg\" height=\"24px\"viewBox=\"0 0 24 24\"\n",
              "       width=\"24px\">\n",
              "    <path d=\"M0 0h24v24H0V0z\" fill=\"none\"/>\n",
              "    <path d=\"M18.56 5.44l.94 2.06.94-2.06 2.06-.94-2.06-.94-.94-2.06-.94 2.06-2.06.94zm-11 1L8.5 8.5l.94-2.06 2.06-.94-2.06-.94L8.5 2.5l-.94 2.06-2.06.94zm10 10l.94 2.06.94-2.06 2.06-.94-2.06-.94-.94-2.06-.94 2.06-2.06.94z\"/><path d=\"M17.41 7.96l-1.37-1.37c-.4-.4-.92-.59-1.43-.59-.52 0-1.04.2-1.43.59L10.3 9.45l-7.72 7.72c-.78.78-.78 2.05 0 2.83L4 21.41c.39.39.9.59 1.41.59.51 0 1.02-.2 1.41-.59l7.78-7.78 2.81-2.81c.8-.78.8-2.07 0-2.86zM5.41 20L4 18.59l7.72-7.72 1.47 1.35L5.41 20z\"/>\n",
              "  </svg>\n",
              "      </button>\n",
              "      \n",
              "  <style>\n",
              "    .colab-df-container {\n",
              "      display:flex;\n",
              "      flex-wrap:wrap;\n",
              "      gap: 12px;\n",
              "    }\n",
              "\n",
              "    .colab-df-convert {\n",
              "      background-color: #E8F0FE;\n",
              "      border: none;\n",
              "      border-radius: 50%;\n",
              "      cursor: pointer;\n",
              "      display: none;\n",
              "      fill: #1967D2;\n",
              "      height: 32px;\n",
              "      padding: 0 0 0 0;\n",
              "      width: 32px;\n",
              "    }\n",
              "\n",
              "    .colab-df-convert:hover {\n",
              "      background-color: #E2EBFA;\n",
              "      box-shadow: 0px 1px 2px rgba(60, 64, 67, 0.3), 0px 1px 3px 1px rgba(60, 64, 67, 0.15);\n",
              "      fill: #174EA6;\n",
              "    }\n",
              "\n",
              "    [theme=dark] .colab-df-convert {\n",
              "      background-color: #3B4455;\n",
              "      fill: #D2E3FC;\n",
              "    }\n",
              "\n",
              "    [theme=dark] .colab-df-convert:hover {\n",
              "      background-color: #434B5C;\n",
              "      box-shadow: 0px 1px 3px 1px rgba(0, 0, 0, 0.15);\n",
              "      filter: drop-shadow(0px 1px 2px rgba(0, 0, 0, 0.3));\n",
              "      fill: #FFFFFF;\n",
              "    }\n",
              "  </style>\n",
              "\n",
              "      <script>\n",
              "        const buttonEl =\n",
              "          document.querySelector('#df-66b92938-e1ba-4f86-ad17-fe7a407a097d button.colab-df-convert');\n",
              "        buttonEl.style.display =\n",
              "          google.colab.kernel.accessAllowed ? 'block' : 'none';\n",
              "\n",
              "        async function convertToInteractive(key) {\n",
              "          const element = document.querySelector('#df-66b92938-e1ba-4f86-ad17-fe7a407a097d');\n",
              "          const dataTable =\n",
              "            await google.colab.kernel.invokeFunction('convertToInteractive',\n",
              "                                                     [key], {});\n",
              "          if (!dataTable) return;\n",
              "\n",
              "          const docLinkHtml = 'Like what you see? Visit the ' +\n",
              "            '<a target=\"_blank\" href=https://colab.research.google.com/notebooks/data_table.ipynb>data table notebook</a>'\n",
              "            + ' to learn more about interactive tables.';\n",
              "          element.innerHTML = '';\n",
              "          dataTable['output_type'] = 'display_data';\n",
              "          await google.colab.output.renderOutput(dataTable, element);\n",
              "          const docLink = document.createElement('div');\n",
              "          docLink.innerHTML = docLinkHtml;\n",
              "          element.appendChild(docLink);\n",
              "        }\n",
              "      </script>\n",
              "    </div>\n",
              "  </div>\n",
              "  "
            ],
            "text/plain": [
              "  Country Code      Indicator Name       2015\n",
              "0          ABW  CO2 emissions (kt)    898.415\n",
              "1          AFG  CO2 emissions (kt)   9035.488\n",
              "2          AGO  CO2 emissions (kt)  34583.477\n",
              "3          ALB  CO2 emissions (kt)   4616.753\n",
              "4          AND  CO2 emissions (kt)    465.709"
            ]
          },
          "execution_count": 469,
          "metadata": {},
          "output_type": "execute_result"
        }
      ],
      "source": [
        "df.head() # checking the head"
      ]
    },
    {
      "cell_type": "markdown",
      "metadata": {
        "id": "VJKfThGzVGBi"
      },
      "source": [
        "### Merging the dataframe with naturalearth dataset"
      ]
    },
    {
      "cell_type": "code",
      "execution_count": 470,
      "metadata": {
        "colab": {
          "base_uri": "https://localhost:8080/",
          "height": 206
        },
        "id": "_U2br2EKUFMr",
        "outputId": "9fa00730-328e-4654-c4e2-4cd679ae338f"
      },
      "outputs": [
        {
          "data": {
            "text/html": [
              "\n",
              "  <div id=\"df-fc0850bc-70b9-4f83-bea5-71b476b6e5ef\">\n",
              "    <div class=\"colab-df-container\">\n",
              "      <div>\n",
              "<style scoped>\n",
              "    .dataframe tbody tr th:only-of-type {\n",
              "        vertical-align: middle;\n",
              "    }\n",
              "\n",
              "    .dataframe tbody tr th {\n",
              "        vertical-align: top;\n",
              "    }\n",
              "\n",
              "    .dataframe thead th {\n",
              "        text-align: right;\n",
              "    }\n",
              "</style>\n",
              "<table border=\"1\" class=\"dataframe\">\n",
              "  <thead>\n",
              "    <tr style=\"text-align: right;\">\n",
              "      <th></th>\n",
              "      <th>Country Code</th>\n",
              "      <th>geometry</th>\n",
              "      <th>name</th>\n",
              "    </tr>\n",
              "  </thead>\n",
              "  <tbody>\n",
              "    <tr>\n",
              "      <th>0</th>\n",
              "      <td>FJI</td>\n",
              "      <td>MULTIPOLYGON (((180.00000 -16.06713, 180.00000...</td>\n",
              "      <td>Fiji</td>\n",
              "    </tr>\n",
              "    <tr>\n",
              "      <th>1</th>\n",
              "      <td>TZA</td>\n",
              "      <td>POLYGON ((33.90371 -0.95000, 34.07262 -1.05982...</td>\n",
              "      <td>Tanzania</td>\n",
              "    </tr>\n",
              "    <tr>\n",
              "      <th>2</th>\n",
              "      <td>ESH</td>\n",
              "      <td>POLYGON ((-8.66559 27.65643, -8.66512 27.58948...</td>\n",
              "      <td>W. Sahara</td>\n",
              "    </tr>\n",
              "    <tr>\n",
              "      <th>3</th>\n",
              "      <td>CAN</td>\n",
              "      <td>MULTIPOLYGON (((-122.84000 49.00000, -122.9742...</td>\n",
              "      <td>Canada</td>\n",
              "    </tr>\n",
              "    <tr>\n",
              "      <th>4</th>\n",
              "      <td>USA</td>\n",
              "      <td>MULTIPOLYGON (((-122.84000 49.00000, -120.0000...</td>\n",
              "      <td>United States of America</td>\n",
              "    </tr>\n",
              "  </tbody>\n",
              "</table>\n",
              "</div>\n",
              "      <button class=\"colab-df-convert\" onclick=\"convertToInteractive('df-fc0850bc-70b9-4f83-bea5-71b476b6e5ef')\"\n",
              "              title=\"Convert this dataframe to an interactive table.\"\n",
              "              style=\"display:none;\">\n",
              "        \n",
              "  <svg xmlns=\"http://www.w3.org/2000/svg\" height=\"24px\"viewBox=\"0 0 24 24\"\n",
              "       width=\"24px\">\n",
              "    <path d=\"M0 0h24v24H0V0z\" fill=\"none\"/>\n",
              "    <path d=\"M18.56 5.44l.94 2.06.94-2.06 2.06-.94-2.06-.94-.94-2.06-.94 2.06-2.06.94zm-11 1L8.5 8.5l.94-2.06 2.06-.94-2.06-.94L8.5 2.5l-.94 2.06-2.06.94zm10 10l.94 2.06.94-2.06 2.06-.94-2.06-.94-.94-2.06-.94 2.06-2.06.94z\"/><path d=\"M17.41 7.96l-1.37-1.37c-.4-.4-.92-.59-1.43-.59-.52 0-1.04.2-1.43.59L10.3 9.45l-7.72 7.72c-.78.78-.78 2.05 0 2.83L4 21.41c.39.39.9.59 1.41.59.51 0 1.02-.2 1.41-.59l7.78-7.78 2.81-2.81c.8-.78.8-2.07 0-2.86zM5.41 20L4 18.59l7.72-7.72 1.47 1.35L5.41 20z\"/>\n",
              "  </svg>\n",
              "      </button>\n",
              "      \n",
              "  <style>\n",
              "    .colab-df-container {\n",
              "      display:flex;\n",
              "      flex-wrap:wrap;\n",
              "      gap: 12px;\n",
              "    }\n",
              "\n",
              "    .colab-df-convert {\n",
              "      background-color: #E8F0FE;\n",
              "      border: none;\n",
              "      border-radius: 50%;\n",
              "      cursor: pointer;\n",
              "      display: none;\n",
              "      fill: #1967D2;\n",
              "      height: 32px;\n",
              "      padding: 0 0 0 0;\n",
              "      width: 32px;\n",
              "    }\n",
              "\n",
              "    .colab-df-convert:hover {\n",
              "      background-color: #E2EBFA;\n",
              "      box-shadow: 0px 1px 2px rgba(60, 64, 67, 0.3), 0px 1px 3px 1px rgba(60, 64, 67, 0.15);\n",
              "      fill: #174EA6;\n",
              "    }\n",
              "\n",
              "    [theme=dark] .colab-df-convert {\n",
              "      background-color: #3B4455;\n",
              "      fill: #D2E3FC;\n",
              "    }\n",
              "\n",
              "    [theme=dark] .colab-df-convert:hover {\n",
              "      background-color: #434B5C;\n",
              "      box-shadow: 0px 1px 3px 1px rgba(0, 0, 0, 0.15);\n",
              "      filter: drop-shadow(0px 1px 2px rgba(0, 0, 0, 0.3));\n",
              "      fill: #FFFFFF;\n",
              "    }\n",
              "  </style>\n",
              "\n",
              "      <script>\n",
              "        const buttonEl =\n",
              "          document.querySelector('#df-fc0850bc-70b9-4f83-bea5-71b476b6e5ef button.colab-df-convert');\n",
              "        buttonEl.style.display =\n",
              "          google.colab.kernel.accessAllowed ? 'block' : 'none';\n",
              "\n",
              "        async function convertToInteractive(key) {\n",
              "          const element = document.querySelector('#df-fc0850bc-70b9-4f83-bea5-71b476b6e5ef');\n",
              "          const dataTable =\n",
              "            await google.colab.kernel.invokeFunction('convertToInteractive',\n",
              "                                                     [key], {});\n",
              "          if (!dataTable) return;\n",
              "\n",
              "          const docLinkHtml = 'Like what you see? Visit the ' +\n",
              "            '<a target=\"_blank\" href=https://colab.research.google.com/notebooks/data_table.ipynb>data table notebook</a>'\n",
              "            + ' to learn more about interactive tables.';\n",
              "          element.innerHTML = '';\n",
              "          dataTable['output_type'] = 'display_data';\n",
              "          await google.colab.output.renderOutput(dataTable, element);\n",
              "          const docLink = document.createElement('div');\n",
              "          docLink.innerHTML = docLinkHtml;\n",
              "          element.appendChild(docLink);\n",
              "        }\n",
              "      </script>\n",
              "    </div>\n",
              "  </div>\n",
              "  "
            ],
            "text/plain": [
              "  Country Code                                           geometry  \\\n",
              "0          FJI  MULTIPOLYGON (((180.00000 -16.06713, 180.00000...   \n",
              "1          TZA  POLYGON ((33.90371 -0.95000, 34.07262 -1.05982...   \n",
              "2          ESH  POLYGON ((-8.66559 27.65643, -8.66512 27.58948...   \n",
              "3          CAN  MULTIPOLYGON (((-122.84000 49.00000, -122.9742...   \n",
              "4          USA  MULTIPOLYGON (((-122.84000 49.00000, -120.0000...   \n",
              "\n",
              "                       name  \n",
              "0                      Fiji  \n",
              "1                  Tanzania  \n",
              "2                 W. Sahara  \n",
              "3                    Canada  \n",
              "4  United States of America  "
            ]
          },
          "execution_count": 470,
          "metadata": {},
          "output_type": "execute_result"
        }
      ],
      "source": [
        "world = gpd.read_file(gpd.datasets.get_path(\"naturalearth_lowres\"))\n",
        "world = world[['iso_a3', 'geometry', 'name']]\n",
        "world.rename(columns = {'iso_a3':'Country Code'}, inplace = True)\n",
        "world.head()"
      ]
    },
    {
      "cell_type": "code",
      "execution_count": 471,
      "metadata": {
        "colab": {
          "base_uri": "https://localhost:8080/",
          "height": 206
        },
        "id": "zBpdwbxqVLAZ",
        "outputId": "ab20c6e4-80c2-46cb-dedd-2b17b06ab41e"
      },
      "outputs": [
        {
          "data": {
            "text/html": [
              "\n",
              "  <div id=\"df-444864ec-12ad-4750-8c75-32d4f993cf9a\">\n",
              "    <div class=\"colab-df-container\">\n",
              "      <div>\n",
              "<style scoped>\n",
              "    .dataframe tbody tr th:only-of-type {\n",
              "        vertical-align: middle;\n",
              "    }\n",
              "\n",
              "    .dataframe tbody tr th {\n",
              "        vertical-align: top;\n",
              "    }\n",
              "\n",
              "    .dataframe thead th {\n",
              "        text-align: right;\n",
              "    }\n",
              "</style>\n",
              "<table border=\"1\" class=\"dataframe\">\n",
              "  <thead>\n",
              "    <tr style=\"text-align: right;\">\n",
              "      <th></th>\n",
              "      <th>Country Code</th>\n",
              "      <th>Indicator Name</th>\n",
              "      <th>2015</th>\n",
              "    </tr>\n",
              "  </thead>\n",
              "  <tbody>\n",
              "    <tr>\n",
              "      <th>0</th>\n",
              "      <td>ABW</td>\n",
              "      <td>CO2 emissions (kt)</td>\n",
              "      <td>898.415</td>\n",
              "    </tr>\n",
              "    <tr>\n",
              "      <th>1</th>\n",
              "      <td>AFG</td>\n",
              "      <td>CO2 emissions (kt)</td>\n",
              "      <td>9035.488</td>\n",
              "    </tr>\n",
              "    <tr>\n",
              "      <th>2</th>\n",
              "      <td>AGO</td>\n",
              "      <td>CO2 emissions (kt)</td>\n",
              "      <td>34583.477</td>\n",
              "    </tr>\n",
              "    <tr>\n",
              "      <th>3</th>\n",
              "      <td>ALB</td>\n",
              "      <td>CO2 emissions (kt)</td>\n",
              "      <td>4616.753</td>\n",
              "    </tr>\n",
              "    <tr>\n",
              "      <th>4</th>\n",
              "      <td>AND</td>\n",
              "      <td>CO2 emissions (kt)</td>\n",
              "      <td>465.709</td>\n",
              "    </tr>\n",
              "  </tbody>\n",
              "</table>\n",
              "</div>\n",
              "      <button class=\"colab-df-convert\" onclick=\"convertToInteractive('df-444864ec-12ad-4750-8c75-32d4f993cf9a')\"\n",
              "              title=\"Convert this dataframe to an interactive table.\"\n",
              "              style=\"display:none;\">\n",
              "        \n",
              "  <svg xmlns=\"http://www.w3.org/2000/svg\" height=\"24px\"viewBox=\"0 0 24 24\"\n",
              "       width=\"24px\">\n",
              "    <path d=\"M0 0h24v24H0V0z\" fill=\"none\"/>\n",
              "    <path d=\"M18.56 5.44l.94 2.06.94-2.06 2.06-.94-2.06-.94-.94-2.06-.94 2.06-2.06.94zm-11 1L8.5 8.5l.94-2.06 2.06-.94-2.06-.94L8.5 2.5l-.94 2.06-2.06.94zm10 10l.94 2.06.94-2.06 2.06-.94-2.06-.94-.94-2.06-.94 2.06-2.06.94z\"/><path d=\"M17.41 7.96l-1.37-1.37c-.4-.4-.92-.59-1.43-.59-.52 0-1.04.2-1.43.59L10.3 9.45l-7.72 7.72c-.78.78-.78 2.05 0 2.83L4 21.41c.39.39.9.59 1.41.59.51 0 1.02-.2 1.41-.59l7.78-7.78 2.81-2.81c.8-.78.8-2.07 0-2.86zM5.41 20L4 18.59l7.72-7.72 1.47 1.35L5.41 20z\"/>\n",
              "  </svg>\n",
              "      </button>\n",
              "      \n",
              "  <style>\n",
              "    .colab-df-container {\n",
              "      display:flex;\n",
              "      flex-wrap:wrap;\n",
              "      gap: 12px;\n",
              "    }\n",
              "\n",
              "    .colab-df-convert {\n",
              "      background-color: #E8F0FE;\n",
              "      border: none;\n",
              "      border-radius: 50%;\n",
              "      cursor: pointer;\n",
              "      display: none;\n",
              "      fill: #1967D2;\n",
              "      height: 32px;\n",
              "      padding: 0 0 0 0;\n",
              "      width: 32px;\n",
              "    }\n",
              "\n",
              "    .colab-df-convert:hover {\n",
              "      background-color: #E2EBFA;\n",
              "      box-shadow: 0px 1px 2px rgba(60, 64, 67, 0.3), 0px 1px 3px 1px rgba(60, 64, 67, 0.15);\n",
              "      fill: #174EA6;\n",
              "    }\n",
              "\n",
              "    [theme=dark] .colab-df-convert {\n",
              "      background-color: #3B4455;\n",
              "      fill: #D2E3FC;\n",
              "    }\n",
              "\n",
              "    [theme=dark] .colab-df-convert:hover {\n",
              "      background-color: #434B5C;\n",
              "      box-shadow: 0px 1px 3px 1px rgba(0, 0, 0, 0.15);\n",
              "      filter: drop-shadow(0px 1px 2px rgba(0, 0, 0, 0.3));\n",
              "      fill: #FFFFFF;\n",
              "    }\n",
              "  </style>\n",
              "\n",
              "      <script>\n",
              "        const buttonEl =\n",
              "          document.querySelector('#df-444864ec-12ad-4750-8c75-32d4f993cf9a button.colab-df-convert');\n",
              "        buttonEl.style.display =\n",
              "          google.colab.kernel.accessAllowed ? 'block' : 'none';\n",
              "\n",
              "        async function convertToInteractive(key) {\n",
              "          const element = document.querySelector('#df-444864ec-12ad-4750-8c75-32d4f993cf9a');\n",
              "          const dataTable =\n",
              "            await google.colab.kernel.invokeFunction('convertToInteractive',\n",
              "                                                     [key], {});\n",
              "          if (!dataTable) return;\n",
              "\n",
              "          const docLinkHtml = 'Like what you see? Visit the ' +\n",
              "            '<a target=\"_blank\" href=https://colab.research.google.com/notebooks/data_table.ipynb>data table notebook</a>'\n",
              "            + ' to learn more about interactive tables.';\n",
              "          element.innerHTML = '';\n",
              "          dataTable['output_type'] = 'display_data';\n",
              "          await google.colab.output.renderOutput(dataTable, element);\n",
              "          const docLink = document.createElement('div');\n",
              "          docLink.innerHTML = docLinkHtml;\n",
              "          element.appendChild(docLink);\n",
              "        }\n",
              "      </script>\n",
              "    </div>\n",
              "  </div>\n",
              "  "
            ],
            "text/plain": [
              "  Country Code      Indicator Name       2015\n",
              "0          ABW  CO2 emissions (kt)    898.415\n",
              "1          AFG  CO2 emissions (kt)   9035.488\n",
              "2          AGO  CO2 emissions (kt)  34583.477\n",
              "3          ALB  CO2 emissions (kt)   4616.753\n",
              "4          AND  CO2 emissions (kt)    465.709"
            ]
          },
          "execution_count": 471,
          "metadata": {},
          "output_type": "execute_result"
        }
      ],
      "source": [
        "df = df[['Country Code', 'Indicator Name', '2015']]\n",
        "df.head()"
      ]
    },
    {
      "cell_type": "code",
      "execution_count": 472,
      "metadata": {
        "id": "N4H3iY_sV8IF"
      },
      "outputs": [],
      "source": [
        "df_merged = world.merge(df, on='Country Code')"
      ]
    },
    {
      "cell_type": "code",
      "execution_count": 473,
      "metadata": {
        "colab": {
          "base_uri": "https://localhost:8080/",
          "height": 659
        },
        "id": "5IEZAiIrXk4q",
        "outputId": "f7b2a5b6-eb82-4d27-d2a9-2a26dd8b902e"
      },
      "outputs": [
        {
          "data": {
            "text/html": [
              "\n",
              "  <div id=\"df-03097a89-cd27-4bce-baf2-671db4ce72d7\">\n",
              "    <div class=\"colab-df-container\">\n",
              "      <div>\n",
              "<style scoped>\n",
              "    .dataframe tbody tr th:only-of-type {\n",
              "        vertical-align: middle;\n",
              "    }\n",
              "\n",
              "    .dataframe tbody tr th {\n",
              "        vertical-align: top;\n",
              "    }\n",
              "\n",
              "    .dataframe thead th {\n",
              "        text-align: right;\n",
              "    }\n",
              "</style>\n",
              "<table border=\"1\" class=\"dataframe\">\n",
              "  <thead>\n",
              "    <tr style=\"text-align: right;\">\n",
              "      <th></th>\n",
              "      <th>Country Code</th>\n",
              "      <th>geometry</th>\n",
              "      <th>name</th>\n",
              "      <th>Indicator Name</th>\n",
              "      <th>2015</th>\n",
              "    </tr>\n",
              "  </thead>\n",
              "  <tbody>\n",
              "    <tr>\n",
              "      <th>0</th>\n",
              "      <td>FJI</td>\n",
              "      <td>MULTIPOLYGON (((180.00000 -16.06713, 180.00000...</td>\n",
              "      <td>Fiji</td>\n",
              "      <td>CO2 emissions (kt)</td>\n",
              "      <td>2156.196</td>\n",
              "    </tr>\n",
              "    <tr>\n",
              "      <th>1</th>\n",
              "      <td>TZA</td>\n",
              "      <td>POLYGON ((33.90371 -0.95000, 34.07262 -1.05982...</td>\n",
              "      <td>Tanzania</td>\n",
              "      <td>CO2 emissions (kt)</td>\n",
              "      <td>12933.509</td>\n",
              "    </tr>\n",
              "    <tr>\n",
              "      <th>2</th>\n",
              "      <td>CAN</td>\n",
              "      <td>MULTIPOLYGON (((-122.84000 49.00000, -122.9742...</td>\n",
              "      <td>Canada</td>\n",
              "      <td>CO2 emissions (kt)</td>\n",
              "      <td>549430.277</td>\n",
              "    </tr>\n",
              "    <tr>\n",
              "      <th>3</th>\n",
              "      <td>USA</td>\n",
              "      <td>MULTIPOLYGON (((-122.84000 49.00000, -120.0000...</td>\n",
              "      <td>United States of America</td>\n",
              "      <td>CO2 emissions (kt)</td>\n",
              "      <td>5126913.374</td>\n",
              "    </tr>\n",
              "    <tr>\n",
              "      <th>4</th>\n",
              "      <td>KAZ</td>\n",
              "      <td>POLYGON ((87.35997 49.21498, 86.59878 48.54918...</td>\n",
              "      <td>Kazakhstan</td>\n",
              "      <td>CO2 emissions (kt)</td>\n",
              "      <td>242091.673</td>\n",
              "    </tr>\n",
              "    <tr>\n",
              "      <th>...</th>\n",
              "      <td>...</td>\n",
              "      <td>...</td>\n",
              "      <td>...</td>\n",
              "      <td>...</td>\n",
              "      <td>...</td>\n",
              "    </tr>\n",
              "    <tr>\n",
              "      <th>162</th>\n",
              "      <td>MKD</td>\n",
              "      <td>POLYGON ((22.38053 42.32026, 22.88137 41.99930...</td>\n",
              "      <td>Macedonia</td>\n",
              "      <td>CO2 emissions (kt)</td>\n",
              "      <td>7099.312</td>\n",
              "    </tr>\n",
              "    <tr>\n",
              "      <th>163</th>\n",
              "      <td>SRB</td>\n",
              "      <td>POLYGON ((18.82982 45.90887, 18.82984 45.90888...</td>\n",
              "      <td>Serbia</td>\n",
              "      <td>CO2 emissions (kt)</td>\n",
              "      <td>43919.659</td>\n",
              "    </tr>\n",
              "    <tr>\n",
              "      <th>164</th>\n",
              "      <td>MNE</td>\n",
              "      <td>POLYGON ((20.07070 42.58863, 19.80161 42.50009...</td>\n",
              "      <td>Montenegro</td>\n",
              "      <td>CO2 emissions (kt)</td>\n",
              "      <td>2240.537</td>\n",
              "    </tr>\n",
              "    <tr>\n",
              "      <th>165</th>\n",
              "      <td>TTO</td>\n",
              "      <td>POLYGON ((-61.68000 10.76000, -61.10500 10.890...</td>\n",
              "      <td>Trinidad and Tobago</td>\n",
              "      <td>CO2 emissions (kt)</td>\n",
              "      <td>46255.538</td>\n",
              "    </tr>\n",
              "    <tr>\n",
              "      <th>166</th>\n",
              "      <td>SSD</td>\n",
              "      <td>POLYGON ((30.83385 3.50917, 29.95350 4.17370, ...</td>\n",
              "      <td>S. Sudan</td>\n",
              "      <td>CO2 emissions (kt)</td>\n",
              "      <td>1943.510</td>\n",
              "    </tr>\n",
              "  </tbody>\n",
              "</table>\n",
              "<p>167 rows × 5 columns</p>\n",
              "</div>\n",
              "      <button class=\"colab-df-convert\" onclick=\"convertToInteractive('df-03097a89-cd27-4bce-baf2-671db4ce72d7')\"\n",
              "              title=\"Convert this dataframe to an interactive table.\"\n",
              "              style=\"display:none;\">\n",
              "        \n",
              "  <svg xmlns=\"http://www.w3.org/2000/svg\" height=\"24px\"viewBox=\"0 0 24 24\"\n",
              "       width=\"24px\">\n",
              "    <path d=\"M0 0h24v24H0V0z\" fill=\"none\"/>\n",
              "    <path d=\"M18.56 5.44l.94 2.06.94-2.06 2.06-.94-2.06-.94-.94-2.06-.94 2.06-2.06.94zm-11 1L8.5 8.5l.94-2.06 2.06-.94-2.06-.94L8.5 2.5l-.94 2.06-2.06.94zm10 10l.94 2.06.94-2.06 2.06-.94-2.06-.94-.94-2.06-.94 2.06-2.06.94z\"/><path d=\"M17.41 7.96l-1.37-1.37c-.4-.4-.92-.59-1.43-.59-.52 0-1.04.2-1.43.59L10.3 9.45l-7.72 7.72c-.78.78-.78 2.05 0 2.83L4 21.41c.39.39.9.59 1.41.59.51 0 1.02-.2 1.41-.59l7.78-7.78 2.81-2.81c.8-.78.8-2.07 0-2.86zM5.41 20L4 18.59l7.72-7.72 1.47 1.35L5.41 20z\"/>\n",
              "  </svg>\n",
              "      </button>\n",
              "      \n",
              "  <style>\n",
              "    .colab-df-container {\n",
              "      display:flex;\n",
              "      flex-wrap:wrap;\n",
              "      gap: 12px;\n",
              "    }\n",
              "\n",
              "    .colab-df-convert {\n",
              "      background-color: #E8F0FE;\n",
              "      border: none;\n",
              "      border-radius: 50%;\n",
              "      cursor: pointer;\n",
              "      display: none;\n",
              "      fill: #1967D2;\n",
              "      height: 32px;\n",
              "      padding: 0 0 0 0;\n",
              "      width: 32px;\n",
              "    }\n",
              "\n",
              "    .colab-df-convert:hover {\n",
              "      background-color: #E2EBFA;\n",
              "      box-shadow: 0px 1px 2px rgba(60, 64, 67, 0.3), 0px 1px 3px 1px rgba(60, 64, 67, 0.15);\n",
              "      fill: #174EA6;\n",
              "    }\n",
              "\n",
              "    [theme=dark] .colab-df-convert {\n",
              "      background-color: #3B4455;\n",
              "      fill: #D2E3FC;\n",
              "    }\n",
              "\n",
              "    [theme=dark] .colab-df-convert:hover {\n",
              "      background-color: #434B5C;\n",
              "      box-shadow: 0px 1px 3px 1px rgba(0, 0, 0, 0.15);\n",
              "      filter: drop-shadow(0px 1px 2px rgba(0, 0, 0, 0.3));\n",
              "      fill: #FFFFFF;\n",
              "    }\n",
              "  </style>\n",
              "\n",
              "      <script>\n",
              "        const buttonEl =\n",
              "          document.querySelector('#df-03097a89-cd27-4bce-baf2-671db4ce72d7 button.colab-df-convert');\n",
              "        buttonEl.style.display =\n",
              "          google.colab.kernel.accessAllowed ? 'block' : 'none';\n",
              "\n",
              "        async function convertToInteractive(key) {\n",
              "          const element = document.querySelector('#df-03097a89-cd27-4bce-baf2-671db4ce72d7');\n",
              "          const dataTable =\n",
              "            await google.colab.kernel.invokeFunction('convertToInteractive',\n",
              "                                                     [key], {});\n",
              "          if (!dataTable) return;\n",
              "\n",
              "          const docLinkHtml = 'Like what you see? Visit the ' +\n",
              "            '<a target=\"_blank\" href=https://colab.research.google.com/notebooks/data_table.ipynb>data table notebook</a>'\n",
              "            + ' to learn more about interactive tables.';\n",
              "          element.innerHTML = '';\n",
              "          dataTable['output_type'] = 'display_data';\n",
              "          await google.colab.output.renderOutput(dataTable, element);\n",
              "          const docLink = document.createElement('div');\n",
              "          docLink.innerHTML = docLinkHtml;\n",
              "          element.appendChild(docLink);\n",
              "        }\n",
              "      </script>\n",
              "    </div>\n",
              "  </div>\n",
              "  "
            ],
            "text/plain": [
              "    Country Code                                           geometry  \\\n",
              "0            FJI  MULTIPOLYGON (((180.00000 -16.06713, 180.00000...   \n",
              "1            TZA  POLYGON ((33.90371 -0.95000, 34.07262 -1.05982...   \n",
              "2            CAN  MULTIPOLYGON (((-122.84000 49.00000, -122.9742...   \n",
              "3            USA  MULTIPOLYGON (((-122.84000 49.00000, -120.0000...   \n",
              "4            KAZ  POLYGON ((87.35997 49.21498, 86.59878 48.54918...   \n",
              "..           ...                                                ...   \n",
              "162          MKD  POLYGON ((22.38053 42.32026, 22.88137 41.99930...   \n",
              "163          SRB  POLYGON ((18.82982 45.90887, 18.82984 45.90888...   \n",
              "164          MNE  POLYGON ((20.07070 42.58863, 19.80161 42.50009...   \n",
              "165          TTO  POLYGON ((-61.68000 10.76000, -61.10500 10.890...   \n",
              "166          SSD  POLYGON ((30.83385 3.50917, 29.95350 4.17370, ...   \n",
              "\n",
              "                         name      Indicator Name         2015  \n",
              "0                        Fiji  CO2 emissions (kt)     2156.196  \n",
              "1                    Tanzania  CO2 emissions (kt)    12933.509  \n",
              "2                      Canada  CO2 emissions (kt)   549430.277  \n",
              "3    United States of America  CO2 emissions (kt)  5126913.374  \n",
              "4                  Kazakhstan  CO2 emissions (kt)   242091.673  \n",
              "..                        ...                 ...          ...  \n",
              "162                 Macedonia  CO2 emissions (kt)     7099.312  \n",
              "163                    Serbia  CO2 emissions (kt)    43919.659  \n",
              "164                Montenegro  CO2 emissions (kt)     2240.537  \n",
              "165       Trinidad and Tobago  CO2 emissions (kt)    46255.538  \n",
              "166                  S. Sudan  CO2 emissions (kt)     1943.510  \n",
              "\n",
              "[167 rows x 5 columns]"
            ]
          },
          "execution_count": 473,
          "metadata": {},
          "output_type": "execute_result"
        }
      ],
      "source": [
        "df_merged"
      ]
    },
    {
      "cell_type": "code",
      "execution_count": 474,
      "metadata": {
        "colab": {
          "base_uri": "https://localhost:8080/"
        },
        "id": "h31AY-jkXmRM",
        "outputId": "bf554093-e7dd-4844-9659-e95e71a57b37"
      },
      "outputs": [
        {
          "data": {
            "text/plain": [
              "<Geographic 2D CRS: EPSG:4326>\n",
              "Name: WGS 84\n",
              "Axis Info [ellipsoidal]:\n",
              "- Lat[north]: Geodetic latitude (degree)\n",
              "- Lon[east]: Geodetic longitude (degree)\n",
              "Area of Use:\n",
              "- name: World.\n",
              "- bounds: (-180.0, -90.0, 180.0, 90.0)\n",
              "Datum: World Geodetic System 1984 ensemble\n",
              "- Ellipsoid: WGS 84\n",
              "- Prime Meridian: Greenwich"
            ]
          },
          "execution_count": 474,
          "metadata": {},
          "output_type": "execute_result"
        }
      ],
      "source": [
        "df_merged.crs"
      ]
    },
    {
      "cell_type": "markdown",
      "metadata": {
        "id": "bVjf1NFWfk0p"
      },
      "source": [
        "### Plotting the Choropleth map with merged dataframe"
      ]
    },
    {
      "cell_type": "code",
      "execution_count": 475,
      "metadata": {
        "colab": {
          "base_uri": "https://localhost:8080/",
          "height": 181
        },
        "id": "6k3YTMUBYh54",
        "outputId": "d134322f-c0c8-4b0f-bfdd-b090049cfb63"
      },
      "outputs": [
        {
          "data": {
            "image/png": "[encoded data removed]",
            "text/plain": [
              "<Figure size 432x288 with 1 Axes>"
            ]
          },
          "metadata": {
            "needs_background": "light"
          },
          "output_type": "display_data"
        }
      ],
      "source": [
        "# normal plot of the \n",
        "df_merged.plot(column='2015');\n"
      ]
    },
    {
      "cell_type": "code",
      "execution_count": 476,
      "metadata": {
        "colab": {
          "base_uri": "https://localhost:8080/",
          "height": 475
        },
        "id": "M-HO31yob73z",
        "outputId": "0da2ce97-bece-4553-a56e-2036218660b1"
      },
      "outputs": [
        {
          "name": "stderr",
          "output_type": "stream",
          "text": [
            "/usr/local/lib/python3.7/dist-packages/geoplot/geoplot.py:57: UserWarning: The data being passed to \"hue\" includes null values. You probably want to remove these before plotting this data with geoplot.\n",
            "  'The data being passed to \"hue\" includes null values. You '\n",
            "/usr/local/lib/python3.7/dist-packages/geoplot/geoplot.py:982: ShapelyDeprecationWarning: Iteration over multi-part geometries is deprecated and will be removed in Shapely 2.0. Use the `geoms` property to access the constituent parts of a multi-part geometry.\n",
            "  for subgeom in geom:\n"
          ]
        },
        {
          "data": {
            "text/plain": [
              "<matplotlib.axes._subplots.AxesSubplot at 0x7fc861701190>"
            ]
          },
          "execution_count": 476,
          "metadata": {},
          "output_type": "execute_result"
        },
        {
          "data": {
            "image/png": "[encoded data removed]",
            "text/plain": [
              "<Figure size 576x432 with 2 Axes>"
            ]
          },
          "metadata": {
            "needs_background": "light"
          },
          "output_type": "display_data"
        }
      ],
      "source": [
        "# using geoplot to plot the emissions of different countries in 2015\n",
        "gplt.choropleth(df_merged, \n",
        "    hue=\"2015\", \n",
        "    linewidth=.1,\n",
        "    cmap='inferno_r',\n",
        "    legend=True,\n",
        "    edgecolor='black'\n",
        ")"
      ]
    },
    {
      "cell_type": "markdown",
      "metadata": {
        "id": "pj6QXm6Eft8h"
      },
      "source": [
        "As seen from the geoplot figure, the co2 emissions were teh highest in China followed by USA, India and Russia"
      ]
    }
  ],
  "metadata": {
    "colab": {
      "name": "Workshop 6.ipynb",
      "provenance": []
    },
    "hide_input": false,
    "kernelspec": {
      "display_name": "Python 3",
      "language": "python",
      "name": "python3"
    },
    "language_info": {
      "codemirror_mode": {
        "name": "ipython",
        "version": 3
      },
      "file_extension": ".py",
      "mimetype": "text/x-python",
      "name": "python",
      "nbconvert_exporter": "python",
      "pygments_lexer": "ipython3",
      "version": "3.8.5"
    }
  },
  "nbformat": 4,
  "nbformat_minor": 0
}
