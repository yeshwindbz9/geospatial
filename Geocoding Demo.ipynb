{
 "cells": [
  {
   "cell_type": "markdown",
   "metadata": {},
   "source": [
    "# Geopy demo"
   ]
  },
  {
   "cell_type": "markdown",
   "metadata": {},
   "source": [
    "geopy is a Python client for several popular geocoding web services.\n",
    "\n",
    "geopy makes it easy for Python developers to locate the coordinates of addresses, cities, countries, and landmarks across the globe using third-party geocoders and other data sources.\n",
    "\n",
    "geopy includes geocoder classes for the OpenStreetMap Nominatim, Google Geocoding API (V3), and many other geocoding services. The full list is available on the Geocoders doc section."
   ]
  },
  {
   "cell_type": "markdown",
   "metadata": {},
   "source": [
    "## Geocoding"
   ]
  },
  {
   "cell_type": "markdown",
   "metadata": {},
   "source": [
    "To geolocate a query to an address and coordinates:\n",
    "\n"
   ]
  },
  {
   "cell_type": "code",
   "execution_count": 1,
   "metadata": {},
   "outputs": [],
   "source": [
    "# Import pandas\n",
    "import pandas as pd"
   ]
  },
  {
   "cell_type": "code",
   "execution_count": 2,
   "metadata": {},
   "outputs": [],
   "source": [
    "# pip install geopy"
   ]
  },
  {
   "cell_type": "code",
   "execution_count": 3,
   "metadata": {},
   "outputs": [],
   "source": [
    "# Import Nominatim\n",
    "from geopy.geocoders import Nominatim"
   ]
  },
  {
   "cell_type": "code",
   "execution_count": 4,
   "metadata": {},
   "outputs": [],
   "source": [
    "geolocator = Nominatim(user_agent=\"MSc21\")"
   ]
  },
  {
   "cell_type": "code",
   "execution_count": 5,
   "metadata": {},
   "outputs": [],
   "source": [
    "# Set location - desired location\n",
    "location = geolocator.geocode(\"Cardiff Metropolitan University\")"
   ]
  },
  {
   "cell_type": "code",
   "execution_count": 6,
   "metadata": {},
   "outputs": [
    {
     "name": "stdout",
     "output_type": "stream",
     "text": [
      "Cardiff Metropolitan University, Llandaff Campus, Western Avenue, Llandaff, Cardiff, Cymru / Wales, CF, United Kingdom\n",
      "Latitude = 51.4960947, Longitude = -3.2127615385866655\n"
     ]
    }
   ],
   "source": [
    "print(location.address)\n",
    "print(f\"Latitude = {location.latitude}, Longitude = {location.longitude}\")\n"
   ]
  },
  {
   "cell_type": "code",
   "execution_count": 7,
   "metadata": {},
   "outputs": [
    {
     "name": "stdout",
     "output_type": "stream",
     "text": [
      "{'place_id': 111509680, 'licence': 'Data © OpenStreetMap contributors, ODbL 1.0. https://osm.org/copyright', 'osm_type': 'way', 'osm_id': 38694260, 'boundingbox': ['51.4946795', '51.4975565', '-3.2156757', '-3.2109469'], 'lat': '51.4960947', 'lon': '-3.2127615385866655', 'display_name': 'Cardiff Metropolitan University, Llandaff Campus, Western Avenue, Llandaff, Cardiff, Cymru / Wales, CF, United Kingdom', 'class': 'amenity', 'type': 'university', 'importance': 0.6080716579671535, 'icon': 'https://nominatim.openstreetmap.org/ui/mapicons//education_university.p.20.png'}\n"
     ]
    }
   ],
   "source": [
    "# Print raw data about the location\n",
    "print(location.raw)"
   ]
  },
  {
   "cell_type": "markdown",
   "metadata": {},
   "source": [
    "## Reverse geocoding"
   ]
  },
  {
   "cell_type": "markdown",
   "metadata": {},
   "source": [
    "To find the address corresponding to a set of coordinates:\n",
    "\n"
   ]
  },
  {
   "cell_type": "code",
   "execution_count": 8,
   "metadata": {},
   "outputs": [],
   "source": [
    "geolocator = Nominatim(user_agent=\"MSc21\")"
   ]
  },
  {
   "cell_type": "code",
   "execution_count": 9,
   "metadata": {},
   "outputs": [],
   "source": [
    "# Set the lat and lon of a location for reverse geocoding\n",
    "location = geolocator.reverse(\"51.4960947, -3.2127615385866655 \")"
   ]
  },
  {
   "cell_type": "code",
   "execution_count": 10,
   "metadata": {},
   "outputs": [
    {
     "name": "stdout",
     "output_type": "stream",
     "text": [
      "Health Sciences (D), Western Avenue, Llandaff, Cardiff, Cymru / Wales, CF, United Kingdom\n"
     ]
    }
   ],
   "source": [
    "# Print the address of location\n",
    "print(location.address)"
   ]
  },
  {
   "cell_type": "markdown",
   "metadata": {},
   "source": [
    "## Geocoding on pandas dataframe having the address for some locations in the UK."
   ]
  },
  {
   "cell_type": "code",
   "execution_count": 11,
   "metadata": {},
   "outputs": [
    {
     "data": {
      "text/html": [
       "<div>\n",
       "<style scoped>\n",
       "    .dataframe tbody tr th:only-of-type {\n",
       "        vertical-align: middle;\n",
       "    }\n",
       "\n",
       "    .dataframe tbody tr th {\n",
       "        vertical-align: top;\n",
       "    }\n",
       "\n",
       "    .dataframe thead th {\n",
       "        text-align: right;\n",
       "    }\n",
       "</style>\n",
       "<table border=\"1\" class=\"dataframe\">\n",
       "  <thead>\n",
       "    <tr style=\"text-align: right;\">\n",
       "      <th></th>\n",
       "      <th>add</th>\n",
       "      <th>location</th>\n",
       "      <th>Lat</th>\n",
       "      <th>Lon</th>\n",
       "    </tr>\n",
       "  </thead>\n",
       "  <tbody>\n",
       "    <tr>\n",
       "      <th>0</th>\n",
       "      <td>Cardiff Castle, Cardiff</td>\n",
       "      <td>(Cardiff Castle, Castle Street, Castle Quarter...</td>\n",
       "      <td>51.481473</td>\n",
       "      <td>-3.180975</td>\n",
       "    </tr>\n",
       "    <tr>\n",
       "      <th>1</th>\n",
       "      <td>Westminster bridge, London</td>\n",
       "      <td>(Westminster Bridge, Westminster, Millbank, Ci...</td>\n",
       "      <td>51.500849</td>\n",
       "      <td>-0.121777</td>\n",
       "    </tr>\n",
       "    <tr>\n",
       "      <th>2</th>\n",
       "      <td>Firth Court, Sheffield</td>\n",
       "      <td>(Firth Court, Western Bank, Broomfield, Sheffi...</td>\n",
       "      <td>53.381664</td>\n",
       "      <td>-1.489233</td>\n",
       "    </tr>\n",
       "    <tr>\n",
       "      <th>3</th>\n",
       "      <td>Medowhall, Sheffield</td>\n",
       "      <td>None</td>\n",
       "      <td>NaN</td>\n",
       "      <td>NaN</td>\n",
       "    </tr>\n",
       "    <tr>\n",
       "      <th>4</th>\n",
       "      <td>Heathrow, London</td>\n",
       "      <td>(Premier Inn London Hayes, Heathrow, 1, Millin...</td>\n",
       "      <td>51.502019</td>\n",
       "      <td>-0.426273</td>\n",
       "    </tr>\n",
       "  </tbody>\n",
       "</table>\n",
       "</div>"
      ],
      "text/plain": [
       "                          add  \\\n",
       "0     Cardiff Castle, Cardiff   \n",
       "1  Westminster bridge, London   \n",
       "2      Firth Court, Sheffield   \n",
       "3        Medowhall, Sheffield   \n",
       "4            Heathrow, London   \n",
       "\n",
       "                                            location        Lat       Lon  \n",
       "0  (Cardiff Castle, Castle Street, Castle Quarter...  51.481473 -3.180975  \n",
       "1  (Westminster Bridge, Westminster, Millbank, Ci...  51.500849 -0.121777  \n",
       "2  (Firth Court, Western Bank, Broomfield, Sheffi...  53.381664 -1.489233  \n",
       "3                                               None        NaN       NaN  \n",
       "4  (Premier Inn London Hayes, Heathrow, 1, Millin...  51.502019 -0.426273  "
      ]
     },
     "execution_count": 11,
     "metadata": {},
     "output_type": "execute_result"
    }
   ],
   "source": [
    "from geopy.extra.rate_limiter import RateLimiter\n",
    "locat = ['Cardiff Castle, Cardiff' , 'Westminster bridge, London','Firth Court, Sheffield','Medowhall, Sheffield','Heathrow, London']\n",
    "df = pd.DataFrame({'add': locat})\n",
    "geocode = RateLimiter(geolocator.geocode, min_delay_seconds=1)\n",
    " \n",
    "#Applying the method to pandas DataFrame\n",
    "df['location'] = df['add'].apply(geocode)\n",
    "df['Lat'] = df['location'].apply(lambda x: x.latitude if x else None)\n",
    "df['Lon'] = df['location'].apply(lambda x: x.longitude if x else None)\n",
    " \n",
    "df"
   ]
  },
  {
   "cell_type": "markdown",
   "metadata": {},
   "source": [
    "## Measuring distance"
   ]
  },
  {
   "cell_type": "markdown",
   "metadata": {},
   "source": [
    "A geodesic is the shortest path (like arc) between two points on a curved surface, analogous to a straight line on a plane surface. "
   ]
  },
  {
   "cell_type": "code",
   "execution_count": 12,
   "metadata": {},
   "outputs": [],
   "source": [
    "from geopy.distance import geodesic"
   ]
  },
  {
   "cell_type": "code",
   "execution_count": 13,
   "metadata": {},
   "outputs": [],
   "source": [
    "# Set the coordinates of a location such as - Cardiff Met\n",
    "\n",
    "CardiffMet = (51.4959456, -3.2126307773786658)"
   ]
  },
  {
   "cell_type": "code",
   "execution_count": 14,
   "metadata": {},
   "outputs": [],
   "source": [
    "# Set the coordinates of a location such as - Sheffield Uni\n",
    "\n",
    "SheffieldUni = (53.3815327, -1.4806602)"
   ]
  },
  {
   "cell_type": "code",
   "execution_count": 15,
   "metadata": {},
   "outputs": [
    {
     "name": "stdout",
     "output_type": "stream",
     "text": [
      "149.50235741457988\n"
     ]
    }
   ],
   "source": [
    "# Calculate the distance as per geodesic distance convention\n",
    "\n",
    "print(geodesic(CardiffMet, SheffieldUni).miles)"
   ]
  },
  {
   "cell_type": "markdown",
   "metadata": {},
   "source": [
    "# Geocoder"
   ]
  },
  {
   "cell_type": "code",
   "execution_count": null,
   "metadata": {},
   "outputs": [],
   "source": [
    "# import geocoder\n",
    "import geocoder"
   ]
  },
  {
   "cell_type": "code",
   "execution_count": null,
   "metadata": {},
   "outputs": [],
   "source": [
    "g = geocoder.osm('Cardiff University')"
   ]
  },
  {
   "cell_type": "code",
   "execution_count": null,
   "metadata": {},
   "outputs": [],
   "source": [
    "g.json"
   ]
  },
  {
   "cell_type": "code",
   "execution_count": null,
   "metadata": {},
   "outputs": [],
   "source": [
    "g.osm"
   ]
  },
  {
   "cell_type": "code",
   "execution_count": null,
   "metadata": {},
   "outputs": [],
   "source": []
  }
 ],
 "metadata": {
  "kernelspec": {
   "display_name": "Python 3",
   "language": "python",
   "name": "python3"
  },
  "language_info": {
   "codemirror_mode": {
    "name": "ipython",
    "version": 3
   },
   "file_extension": ".py",
   "mimetype": "text/x-python",
   "name": "python",
   "nbconvert_exporter": "python",
   "pygments_lexer": "ipython3",
   "version": "3.9.10"
  }
 },
 "nbformat": 4,
 "nbformat_minor": 2
}
