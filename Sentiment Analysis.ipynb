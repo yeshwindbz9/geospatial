{
 "cells": [
  {
   "cell_type": "markdown",
   "id": "29ecfbc0",
   "metadata": {},
   "source": [
    "### Import necessary librraies"
   ]
  },
  {
   "cell_type": "code",
   "execution_count": null,
   "id": "621959d6",
   "metadata": {},
   "outputs": [],
   "source": [
    "import pandas as pd\n",
    "import matplotlib.pyplot as plt\n",
    "from textblob import TextBlob"
   ]
  },
  {
   "cell_type": "markdown",
   "id": "aeca15f0",
   "metadata": {},
   "source": [
    "### Read tweet_global_warming.csv file"
   ]
  },
  {
   "cell_type": "code",
   "execution_count": null,
   "id": "347d03d6",
   "metadata": {},
   "outputs": [],
   "source": [
    "tweets_global_warming=pd.read_csv(\"tweet_global_warming.csv\")#,encoding='cp1252')\n",
    "tweets_global_warming.head()"
   ]
  },
  {
   "cell_type": "markdown",
   "id": "5ca9a43b",
   "metadata": {},
   "source": [
    "### Write a function to generate polarity"
   ]
  },
  {
   "cell_type": "code",
   "execution_count": null,
   "id": "b70691a2",
   "metadata": {},
   "outputs": [],
   "source": [
    "def getTextPolarity(txt):\n",
    "    return TextBlob(txt).sentiment.polarity"
   ]
  },
  {
   "cell_type": "markdown",
   "id": "a3637bab",
   "metadata": {},
   "source": [
    "### Select 500 tweets randomly"
   ]
  },
  {
   "cell_type": "code",
   "execution_count": null,
   "id": "f38a5daa",
   "metadata": {},
   "outputs": [],
   "source": [
    "tweets_global_warming_samp = tweets_global_warming.sample(n=500)"
   ]
  },
  {
   "cell_type": "markdown",
   "id": "9d2dce94",
   "metadata": {},
   "source": [
    "### Apply the above function on the sampled tweets"
   ]
  },
  {
   "cell_type": "code",
   "execution_count": null,
   "id": "77b591b6",
   "metadata": {},
   "outputs": [],
   "source": [
    "tweets_global_warming_samp['polarity'] = tweets_global_warming_samp['tweet'].apply(getTextPolarity)\n",
    "tweets_global_warming_samp.head()"
   ]
  },
  {
   "cell_type": "markdown",
   "id": "ac70437e",
   "metadata": {},
   "source": [
    "### Show the polarity values using histogram"
   ]
  },
  {
   "cell_type": "code",
   "execution_count": null,
   "id": "e96dab2f",
   "metadata": {},
   "outputs": [],
   "source": [
    "fig, ax = plt.subplots(figsize=(8, 6))\n",
    "\n",
    "tweets_global_warming_samp['polarity'].hist(bins=[-1, -0.75, -0.5, -0.25, 0, 0.25, 0.5, 0.75, 1],\n",
    "        ax=ax, color=\"blue\")\n",
    "\n",
    "plt.show()"
   ]
  },
  {
   "cell_type": "markdown",
   "id": "ecf5be20",
   "metadata": {},
   "source": [
    "### Write a function to generate subjectivity\n"
   ]
  },
  {
   "cell_type": "code",
   "execution_count": null,
   "id": "0166f57c",
   "metadata": {},
   "outputs": [],
   "source": [
    "def getTextSubjectivity(txt):\n",
    "    return TextBlob(txt).sentiment.subjectivity"
   ]
  },
  {
   "cell_type": "markdown",
   "id": "f36decc7",
   "metadata": {},
   "source": [
    "### Apply the above function on the sampled tweets"
   ]
  },
  {
   "cell_type": "code",
   "execution_count": null,
   "id": "d12104a4",
   "metadata": {},
   "outputs": [],
   "source": [
    "tweets_global_warming_samp['subjectivity'] = tweets_global_warming_samp['tweet'].apply(getTextSubjectivity)\n",
    "tweets_global_warming_samp.head()"
   ]
  },
  {
   "cell_type": "markdown",
   "id": "841eaa9b",
   "metadata": {},
   "source": [
    "### Show the subjectivity values using histogram"
   ]
  },
  {
   "cell_type": "code",
   "execution_count": null,
   "id": "efaf789c",
   "metadata": {},
   "outputs": [],
   "source": [
    "fig, ax = plt.subplots(figsize=(8, 6))\n",
    "tweets_global_warming_samp['subjectivity'].hist(bins=[0, 0.25, 0.5, 0.75, 1],\n",
    "                                \n",
    "        ax=ax, color=\"blue\")\n",
    "\n",
    "plt.show()"
   ]
  },
  {
   "cell_type": "code",
   "execution_count": null,
   "id": "c4ef2764",
   "metadata": {},
   "outputs": [],
   "source": []
  }
 ],
 "metadata": {
  "kernelspec": {
   "display_name": "Python 3",
   "language": "python",
   "name": "python3"
  },
  "language_info": {
   "codemirror_mode": {
    "name": "ipython",
    "version": 3
   },
   "file_extension": ".py",
   "mimetype": "text/x-python",
   "name": "python",
   "nbconvert_exporter": "python",
   "pygments_lexer": "ipython3",
   "version": "3.8.8"
  }
 },
 "nbformat": 4,
 "nbformat_minor": 5
}
