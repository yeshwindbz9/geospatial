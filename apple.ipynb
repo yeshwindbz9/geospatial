{
 "cells": [
  {
   "cell_type": "markdown",
   "id": "29ecfbc0",
   "metadata": {},
   "source": [
    "### Import necessary libraies"
   ]
  },
  {
   "cell_type": "code",
   "execution_count": 62,
   "id": "621959d6",
   "metadata": {},
   "outputs": [],
   "source": [
    "import pandas as pd\n",
    "import seaborn as sns\n",
    "import matplotlib.pyplot as plt\n",
    "from textblob import TextBlob"
   ]
  },
  {
   "cell_type": "markdown",
   "id": "aeca15f0",
   "metadata": {},
   "source": [
    "### Reading tweet_global_warming.csv file"
   ]
  },
  {
   "cell_type": "code",
   "execution_count": 63,
   "id": "347d03d6",
   "metadata": {},
   "outputs": [
    {
     "data": {
      "text/html": [
       "<div>\n",
       "<style scoped>\n",
       "    .dataframe tbody tr th:only-of-type {\n",
       "        vertical-align: middle;\n",
       "    }\n",
       "\n",
       "    .dataframe tbody tr th {\n",
       "        vertical-align: top;\n",
       "    }\n",
       "\n",
       "    .dataframe thead th {\n",
       "        text-align: right;\n",
       "    }\n",
       "</style>\n",
       "<table border=\"1\" class=\"dataframe\">\n",
       "  <thead>\n",
       "    <tr style=\"text-align: right;\">\n",
       "      <th></th>\n",
       "      <th>tweet</th>\n",
       "    </tr>\n",
       "  </thead>\n",
       "  <tbody>\n",
       "    <tr>\n",
       "      <th>0</th>\n",
       "      <td>Wow. Yall needa step it up @Apple RT @heynyla:...</td>\n",
       "    </tr>\n",
       "    <tr>\n",
       "      <th>1</th>\n",
       "      <td>What Happened To Apple Inc?   http://t.co/FJEX...</td>\n",
       "    </tr>\n",
       "    <tr>\n",
       "      <th>2</th>\n",
       "      <td>Thank u @apple I can now compile all of the pi...</td>\n",
       "    </tr>\n",
       "    <tr>\n",
       "      <th>3</th>\n",
       "      <td>The oddly uplifting story of the Apple co-foun...</td>\n",
       "    </tr>\n",
       "    <tr>\n",
       "      <th>4</th>\n",
       "      <td>@apple can i exchange my iphone for a differen...</td>\n",
       "    </tr>\n",
       "  </tbody>\n",
       "</table>\n",
       "</div>"
      ],
      "text/plain": [
       "                                               tweet\n",
       "0  Wow. Yall needa step it up @Apple RT @heynyla:...\n",
       "1  What Happened To Apple Inc?   http://t.co/FJEX...\n",
       "2  Thank u @apple I can now compile all of the pi...\n",
       "3  The oddly uplifting story of the Apple co-foun...\n",
       "4  @apple can i exchange my iphone for a differen..."
      ]
     },
     "execution_count": 63,
     "metadata": {},
     "output_type": "execute_result"
    }
   ],
   "source": [
    "tweets_apple=pd.read_csv(\"data/apple.csv\")\n",
    "tweets_apple.head()"
   ]
  },
  {
   "cell_type": "markdown",
   "id": "5ca9a43b",
   "metadata": {},
   "source": [
    "### Function to generate polarity"
   ]
  },
  {
   "cell_type": "code",
   "execution_count": 64,
   "id": "b70691a2",
   "metadata": {},
   "outputs": [],
   "source": [
    "def getTextPolarity(txt):\n",
    "    return TextBlob(txt).sentiment.polarity\n",
    "\n",
    "def get_tweet_polarity(tweet): \n",
    "    # create TextBlob object of passed tweet text \n",
    "    analysis = TextBlob(tweet) \n",
    "    \n",
    "    # set sentiment \n",
    "    if analysis.sentiment.polarity > 0:\n",
    "        return 'positive'\n",
    "    elif analysis.sentiment.polarity == 0: \n",
    "        return 'neutral'\n",
    "    else: \n",
    "        return 'negative'"
   ]
  },
  {
   "cell_type": "markdown",
   "id": "a3637bab",
   "metadata": {},
   "source": [
    "### Selecting 500 tweets randomly"
   ]
  },
  {
   "cell_type": "code",
   "execution_count": 65,
   "id": "f38a5daa",
   "metadata": {},
   "outputs": [],
   "source": [
    "tweets_apple = tweets_apple.sample(n=500)"
   ]
  },
  {
   "cell_type": "markdown",
   "id": "9d2dce94",
   "metadata": {},
   "source": [
    "### Applying the above function on the sampled tweets"
   ]
  },
  {
   "cell_type": "code",
   "execution_count": 66,
   "id": "77b591b6",
   "metadata": {},
   "outputs": [
    {
     "data": {
      "text/html": [
       "<div>\n",
       "<style scoped>\n",
       "    .dataframe tbody tr th:only-of-type {\n",
       "        vertical-align: middle;\n",
       "    }\n",
       "\n",
       "    .dataframe tbody tr th {\n",
       "        vertical-align: top;\n",
       "    }\n",
       "\n",
       "    .dataframe thead th {\n",
       "        text-align: right;\n",
       "    }\n",
       "</style>\n",
       "<table border=\"1\" class=\"dataframe\">\n",
       "  <thead>\n",
       "    <tr style=\"text-align: right;\">\n",
       "      <th></th>\n",
       "      <th>tweet</th>\n",
       "      <th>polarity</th>\n",
       "      <th>polarityClass</th>\n",
       "    </tr>\n",
       "  </thead>\n",
       "  <tbody>\n",
       "    <tr>\n",
       "      <th>211</th>\n",
       "      <td>Myths vs. Reality-Full Time #Trading http://t....</td>\n",
       "      <td>0.000</td>\n",
       "      <td>neutral</td>\n",
       "    </tr>\n",
       "    <tr>\n",
       "      <th>1516</th>\n",
       "      <td>@Apple co-founder Steve Wozniak talks about St...</td>\n",
       "      <td>0.100</td>\n",
       "      <td>positive</td>\n",
       "    </tr>\n",
       "    <tr>\n",
       "      <th>1324</th>\n",
       "      <td>Dear @Apple, please fix your AWDL issues.. htt...</td>\n",
       "      <td>0.000</td>\n",
       "      <td>neutral</td>\n",
       "    </tr>\n",
       "    <tr>\n",
       "      <th>305</th>\n",
       "      <td>@apple should buy @nintendo and @sega. They'd ...</td>\n",
       "      <td>-0.400</td>\n",
       "      <td>negative</td>\n",
       "    </tr>\n",
       "    <tr>\n",
       "      <th>1268</th>\n",
       "      <td>@ganondaIf why is the quality so bad on these ...</td>\n",
       "      <td>-0.375</td>\n",
       "      <td>negative</td>\n",
       "    </tr>\n",
       "  </tbody>\n",
       "</table>\n",
       "</div>"
      ],
      "text/plain": [
       "                                                  tweet  polarity  \\\n",
       "211   Myths vs. Reality-Full Time #Trading http://t....     0.000   \n",
       "1516  @Apple co-founder Steve Wozniak talks about St...     0.100   \n",
       "1324  Dear @Apple, please fix your AWDL issues.. htt...     0.000   \n",
       "305   @apple should buy @nintendo and @sega. They'd ...    -0.400   \n",
       "1268  @ganondaIf why is the quality so bad on these ...    -0.375   \n",
       "\n",
       "     polarityClass  \n",
       "211        neutral  \n",
       "1516      positive  \n",
       "1324       neutral  \n",
       "305       negative  \n",
       "1268      negative  "
      ]
     },
     "execution_count": 66,
     "metadata": {},
     "output_type": "execute_result"
    }
   ],
   "source": [
    "tweets_apple['polarity'] = tweets_apple['tweet'].apply(getTextPolarity)\n",
    "tweets_apple['polarityClass'] = tweets_apple['tweet'].apply(get_tweet_polarity)\n",
    "tweets_apple.head()"
   ]
  },
  {
   "cell_type": "markdown",
   "id": "ac70437e",
   "metadata": {},
   "source": [
    "### Plotting the polarity values using histogram"
   ]
  },
  {
   "cell_type": "code",
   "execution_count": 67,
   "id": "e96dab2f",
   "metadata": {},
   "outputs": [
    {
     "data": {
      "text/plain": [
       "<matplotlib.axes._subplots.AxesSubplot at 0x16f47443670>"
      ]
     },
     "execution_count": 67,
     "metadata": {},
     "output_type": "execute_result"
    },
    {
     "data": {
      "image/png": "[encoded data removed]",
      "text/plain": [
       "<Figure size 432x288 with 1 Axes>"
      ]
     },
     "metadata": {
      "needs_background": "light"
     },
     "output_type": "display_data"
    }
   ],
   "source": [
    "sns.histplot(data=tweets_apple, x=\"polarity\", kde=True)"
   ]
  },
  {
   "cell_type": "code",
   "execution_count": 68,
   "metadata": {},
   "outputs": [
    {
     "data": {
      "text/plain": [
       "<matplotlib.axes._subplots.AxesSubplot at 0x16f46da38b0>"
      ]
     },
     "execution_count": 68,
     "metadata": {},
     "output_type": "execute_result"
    },
    {
     "data": {
      "image/png": "[encoded data removed]",
      "text/plain": [
       "<Figure size 432x288 with 1 Axes>"
      ]
     },
     "metadata": {
      "needs_background": "light"
     },
     "output_type": "display_data"
    }
   ],
   "source": [
    "tweets_apple['polarityClass'] = pd.Categorical(tweets_apple['polarityClass'], ['negative','neutral','positive'])\n",
    "sns.histplot(data=tweets_apple, x=\"polarityClass\", kde=True)"
   ]
  },
  {
   "cell_type": "markdown",
   "id": "ecf5be20",
   "metadata": {},
   "source": [
    "### Function to generate subjectivity\n"
   ]
  },
  {
   "cell_type": "code",
   "execution_count": 69,
   "id": "0166f57c",
   "metadata": {},
   "outputs": [],
   "source": [
    "def getTextSubjectivity(txt):\n",
    "    return TextBlob(txt).sentiment.subjectivity"
   ]
  },
  {
   "cell_type": "markdown",
   "id": "f36decc7",
   "metadata": {},
   "source": [
    "### Applying the above function on the sampled tweets"
   ]
  },
  {
   "cell_type": "code",
   "execution_count": 70,
   "id": "d12104a4",
   "metadata": {},
   "outputs": [
    {
     "data": {
      "text/html": [
       "<div>\n",
       "<style scoped>\n",
       "    .dataframe tbody tr th:only-of-type {\n",
       "        vertical-align: middle;\n",
       "    }\n",
       "\n",
       "    .dataframe tbody tr th {\n",
       "        vertical-align: top;\n",
       "    }\n",
       "\n",
       "    .dataframe thead th {\n",
       "        text-align: right;\n",
       "    }\n",
       "</style>\n",
       "<table border=\"1\" class=\"dataframe\">\n",
       "  <thead>\n",
       "    <tr style=\"text-align: right;\">\n",
       "      <th></th>\n",
       "      <th>tweet</th>\n",
       "      <th>polarity</th>\n",
       "      <th>polarityClass</th>\n",
       "      <th>subjectivity</th>\n",
       "    </tr>\n",
       "  </thead>\n",
       "  <tbody>\n",
       "    <tr>\n",
       "      <th>211</th>\n",
       "      <td>Myths vs. Reality-Full Time #Trading http://t....</td>\n",
       "      <td>0.000</td>\n",
       "      <td>neutral</td>\n",
       "      <td>0.000000</td>\n",
       "    </tr>\n",
       "    <tr>\n",
       "      <th>1516</th>\n",
       "      <td>@Apple co-founder Steve Wozniak talks about St...</td>\n",
       "      <td>0.100</td>\n",
       "      <td>positive</td>\n",
       "      <td>0.300000</td>\n",
       "    </tr>\n",
       "    <tr>\n",
       "      <th>1324</th>\n",
       "      <td>Dear @Apple, please fix your AWDL issues.. htt...</td>\n",
       "      <td>0.000</td>\n",
       "      <td>neutral</td>\n",
       "      <td>0.000000</td>\n",
       "    </tr>\n",
       "    <tr>\n",
       "      <th>305</th>\n",
       "      <td>@apple should buy @nintendo and @sega. They'd ...</td>\n",
       "      <td>-0.400</td>\n",
       "      <td>negative</td>\n",
       "      <td>0.400000</td>\n",
       "    </tr>\n",
       "    <tr>\n",
       "      <th>1268</th>\n",
       "      <td>@ganondaIf why is the quality so bad on these ...</td>\n",
       "      <td>-0.375</td>\n",
       "      <td>negative</td>\n",
       "      <td>0.358333</td>\n",
       "    </tr>\n",
       "  </tbody>\n",
       "</table>\n",
       "</div>"
      ],
      "text/plain": [
       "                                                  tweet  polarity  \\\n",
       "211   Myths vs. Reality-Full Time #Trading http://t....     0.000   \n",
       "1516  @Apple co-founder Steve Wozniak talks about St...     0.100   \n",
       "1324  Dear @Apple, please fix your AWDL issues.. htt...     0.000   \n",
       "305   @apple should buy @nintendo and @sega. They'd ...    -0.400   \n",
       "1268  @ganondaIf why is the quality so bad on these ...    -0.375   \n",
       "\n",
       "     polarityClass  subjectivity  \n",
       "211        neutral      0.000000  \n",
       "1516      positive      0.300000  \n",
       "1324       neutral      0.000000  \n",
       "305       negative      0.400000  \n",
       "1268      negative      0.358333  "
      ]
     },
     "execution_count": 70,
     "metadata": {},
     "output_type": "execute_result"
    }
   ],
   "source": [
    "tweets_apple['subjectivity'] = tweets_apple['tweet'].apply(getTextSubjectivity)\n",
    "tweets_apple.head()"
   ]
  },
  {
   "cell_type": "markdown",
   "id": "841eaa9b",
   "metadata": {},
   "source": [
    "### Plotting the subjectivity values using histogram"
   ]
  },
  {
   "cell_type": "code",
   "execution_count": 72,
   "id": "efaf789c",
   "metadata": {},
   "outputs": [
    {
     "data": {
      "text/plain": [
       "<matplotlib.axes._subplots.AxesSubplot at 0x16f46dba4c0>"
      ]
     },
     "execution_count": 72,
     "metadata": {},
     "output_type": "execute_result"
    },
    {
     "data": {
      "image/png": "[encoded data removed]",
      "text/plain": [
       "<Figure size 432x288 with 1 Axes>"
      ]
     },
     "metadata": {
      "needs_background": "light"
     },
     "output_type": "display_data"
    }
   ],
   "source": [
    "sns.histplot(data=tweets_apple, x=\"subjectivity\", kde=True)"
   ]
  },
  {
   "cell_type": "markdown",
   "metadata": {},
   "source": [
    "### Conclusion"
   ]
  },
  {
   "cell_type": "markdown",
   "metadata": {},
   "source": [
    "* As seen from the polarity analysis, most of the tweets are neutral. Since most of the tweets are objective as seen from the figure above a very small subset has subjective tweets out of the randomly selected tweets. Moreover, the polarity analysis tells us that, most of the people have written a factual or objective tweet about apple, therefore the most common polarity class of tweets is neutral. \n",
    "\n",
    "* The histplots of the polarityClass and the subjectivity has been plot by using seaborn along with their kde. The polarityClass feature is generated by the function get_tweet_polarity which classifies the tweet as positive, negetive or neutral based on their sentiment polarity.\n",
    "\n",
    "* Finally the number of positive sentiments are slightly greater than the negetive sentiments from the selected random set of tweets, implying that the customers have a positive attitude towards the company. After re-running the cells multiple times, the output produces almost the same results, with the randomly selected set of tweets implying that the collective customer feedback/comments about apple is positive."
   ]
  }
 ],
 "metadata": {
  "interpreter": {
   "hash": "285b07ca0897ab425aa457e3bbc1fda1e6c510ebcad50adeba15ed0599e10408"
  },
  "kernelspec": {
   "display_name": "Python 3.8.12 ('geopy')",
   "language": "python",
   "name": "python3"
  },
  "language_info": {
   "codemirror_mode": {
    "name": "ipython",
    "version": 3
   },
   "file_extension": ".py",
   "mimetype": "text/x-python",
   "name": "python",
   "nbconvert_exporter": "python",
   "pygments_lexer": "ipython3",
   "version": "3.8.12"
  },
  "orig_nbformat": 4
 },
 "nbformat": 4,
 "nbformat_minor": 2
}
