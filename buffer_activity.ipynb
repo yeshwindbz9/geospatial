{
 "cells": [
  {
   "cell_type": "markdown",
   "metadata": {},
   "source": [
    "## Importing key libraries "
   ]
  },
  {
   "cell_type": "code",
   "execution_count": 1,
   "metadata": {},
   "outputs": [],
   "source": [
    "# Import these libraries: Geopandas, Pandas and Matplotlip.pyplot\n",
    "import geopandas as gpd\n",
    "import pandas as pd\n",
    "import matplotlib.pyplot as plt\n",
    "\n"
   ]
  },
  {
   "cell_type": "markdown",
   "metadata": {},
   "source": [
    "# Buffer analysis basics\n"
   ]
  },
  {
   "cell_type": "markdown",
   "metadata": {},
   "source": [
    "<div class=\"alert alert-block alert-info\">\n",
    "    \n",
    "<b>Instructions:</b> \n",
    "\n",
    "\n",
    "* <span style='font-family:Georgia'> Read the Swimming Pool Dataset (swimming_pools.shp) in the Workshop2Data folder\n",
    "    \n",
    "* <span style='font-family:Georgia'> Display the first five rows of the dataset.\n",
    " \n",
    "</div>"
   ]
  },
  {
   "cell_type": "code",
   "execution_count": 2,
   "metadata": {},
   "outputs": [
    {
     "data": {
      "text/html": [
       "<div>\n",
       "<style scoped>\n",
       "    .dataframe tbody tr th:only-of-type {\n",
       "        vertical-align: middle;\n",
       "    }\n",
       "\n",
       "    .dataframe tbody tr th {\n",
       "        vertical-align: top;\n",
       "    }\n",
       "\n",
       "    .dataframe thead th {\n",
       "        text-align: right;\n",
       "    }\n",
       "</style>\n",
       "<table border=\"1\" class=\"dataframe\">\n",
       "  <thead>\n",
       "    <tr style=\"text-align: right;\">\n",
       "      <th></th>\n",
       "      <th>OBJECTID</th>\n",
       "      <th>NAME</th>\n",
       "      <th>PARK_NAME</th>\n",
       "      <th>ADDRESS_91</th>\n",
       "      <th>ZIP_CODE</th>\n",
       "      <th>POOL_TYPE</th>\n",
       "      <th>POOL_STATU</th>\n",
       "      <th>COMMENTS</th>\n",
       "      <th>DATE_INSTA</th>\n",
       "      <th>DATA_SOURC</th>\n",
       "      <th>geometry</th>\n",
       "    </tr>\n",
       "  </thead>\n",
       "  <tbody>\n",
       "    <tr>\n",
       "      <th>0</th>\n",
       "      <td>1</td>\n",
       "      <td>Fox Chase Pool</td>\n",
       "      <td>Fox Chase Recreation Center</td>\n",
       "      <td>7901 RIDGEWAY ST</td>\n",
       "      <td>19111</td>\n",
       "      <td>OUTDOOR</td>\n",
       "      <td>ACTIVE</td>\n",
       "      <td>None</td>\n",
       "      <td>None</td>\n",
       "      <td>Finder; Previous GIS Data</td>\n",
       "      <td>POINT (-75.08232 40.07367)</td>\n",
       "    </tr>\n",
       "    <tr>\n",
       "      <th>1</th>\n",
       "      <td>2</td>\n",
       "      <td>Mitchell Pool</td>\n",
       "      <td>Thomas Mitchell Memorial Playground</td>\n",
       "      <td>3600 WHITEHALL LN</td>\n",
       "      <td>19114</td>\n",
       "      <td>OUTDOOR</td>\n",
       "      <td>ACTIVE</td>\n",
       "      <td>None</td>\n",
       "      <td>2012-01-01</td>\n",
       "      <td>Capital 2019; Finder</td>\n",
       "      <td>POINT (-74.99143 40.06830)</td>\n",
       "    </tr>\n",
       "    <tr>\n",
       "      <th>2</th>\n",
       "      <td>3</td>\n",
       "      <td>Jardel Pool</td>\n",
       "      <td>Thomas E. Jardel Memorial Field</td>\n",
       "      <td>1400 COTTMAN AVE</td>\n",
       "      <td>19111</td>\n",
       "      <td>OUTDOOR</td>\n",
       "      <td>ACTIVE</td>\n",
       "      <td>None</td>\n",
       "      <td>None</td>\n",
       "      <td>Finder; Previous GIS Data</td>\n",
       "      <td>POINT (-75.07590 40.05629)</td>\n",
       "    </tr>\n",
       "    <tr>\n",
       "      <th>3</th>\n",
       "      <td>4</td>\n",
       "      <td>Jacobs Pool</td>\n",
       "      <td>George Jacobs Playground</td>\n",
       "      <td>4500 LINDEN AVE</td>\n",
       "      <td>19136</td>\n",
       "      <td>OUTDOOR</td>\n",
       "      <td>ACTIVE</td>\n",
       "      <td>None</td>\n",
       "      <td>None</td>\n",
       "      <td>Aquatics 2019; Finder</td>\n",
       "      <td>POINT (-75.00284 40.05266)</td>\n",
       "    </tr>\n",
       "    <tr>\n",
       "      <th>4</th>\n",
       "      <td>5</td>\n",
       "      <td>Morris Estates Pool</td>\n",
       "      <td>Morris Estate Cultural Center</td>\n",
       "      <td>1610 CHELTEN AVE</td>\n",
       "      <td>19141</td>\n",
       "      <td>OUTDOOR</td>\n",
       "      <td>ACTIVE</td>\n",
       "      <td>Emergency access is from Chelten around the bu...</td>\n",
       "      <td>None</td>\n",
       "      <td>Finder; Administration</td>\n",
       "      <td>POINT (-75.14641 40.04992)</td>\n",
       "    </tr>\n",
       "  </tbody>\n",
       "</table>\n",
       "</div>"
      ],
      "text/plain": [
       "   OBJECTID                 NAME                            PARK_NAME  \\\n",
       "0         1       Fox Chase Pool          Fox Chase Recreation Center   \n",
       "1         2        Mitchell Pool  Thomas Mitchell Memorial Playground   \n",
       "2         3          Jardel Pool      Thomas E. Jardel Memorial Field   \n",
       "3         4          Jacobs Pool             George Jacobs Playground   \n",
       "4         5  Morris Estates Pool        Morris Estate Cultural Center   \n",
       "\n",
       "          ADDRESS_91  ZIP_CODE POOL_TYPE POOL_STATU  \\\n",
       "0   7901 RIDGEWAY ST     19111   OUTDOOR     ACTIVE   \n",
       "1  3600 WHITEHALL LN     19114   OUTDOOR     ACTIVE   \n",
       "2   1400 COTTMAN AVE     19111   OUTDOOR     ACTIVE   \n",
       "3    4500 LINDEN AVE     19136   OUTDOOR     ACTIVE   \n",
       "4   1610 CHELTEN AVE     19141   OUTDOOR     ACTIVE   \n",
       "\n",
       "                                            COMMENTS  DATE_INSTA  \\\n",
       "0                                               None        None   \n",
       "1                                               None  2012-01-01   \n",
       "2                                               None        None   \n",
       "3                                               None        None   \n",
       "4  Emergency access is from Chelten around the bu...        None   \n",
       "\n",
       "                  DATA_SOURC                    geometry  \n",
       "0  Finder; Previous GIS Data  POINT (-75.08232 40.07367)  \n",
       "1       Capital 2019; Finder  POINT (-74.99143 40.06830)  \n",
       "2  Finder; Previous GIS Data  POINT (-75.07590 40.05629)  \n",
       "3      Aquatics 2019; Finder  POINT (-75.00284 40.05266)  \n",
       "4     Finder; Administration  POINT (-75.14641 40.04992)  "
      ]
     },
     "execution_count": 2,
     "metadata": {},
     "output_type": "execute_result"
    }
   ],
   "source": [
    "pool = gpd.read_file(\"data/pool/swimming_pools.shp\")\n",
    "pool.head(5)"
   ]
  },
  {
   "cell_type": "markdown",
   "metadata": {},
   "source": [
    "<div class=\"alert alert-block alert-info\">\n",
    "    \n",
    "* <span style='font-family:Georgia'> Plot the swimming pools data with Geopandas. \n",
    " \n",
    "</div>"
   ]
  },
  {
   "cell_type": "code",
   "execution_count": 3,
   "metadata": {},
   "outputs": [
    {
     "data": {
      "text/plain": [
       "<matplotlib.axes._subplots.AxesSubplot at 0x175705a6610>"
      ]
     },
     "execution_count": 3,
     "metadata": {},
     "output_type": "execute_result"
    },
    {
     "data": {
      "image/png": "[encoded data removed]",
      "text/plain": [
       "<Figure size 432x288 with 1 Axes>"
      ]
     },
     "metadata": {
      "needs_background": "light"
     },
     "output_type": "display_data"
    }
   ],
   "source": [
    "pool.plot()"
   ]
  },
  {
   "cell_type": "markdown",
   "metadata": {},
   "source": [
    "<div class=\"alert alert-block alert-info\">\n",
    "    \n",
    "* <span style='font-family:Georgia'> Find the the swimming pool with the following name \"Jardel Pool\". Plot Jardel Pool. \n",
    " \n",
    "</div>"
   ]
  },
  {
   "cell_type": "code",
   "execution_count": 4,
   "metadata": {},
   "outputs": [
    {
     "data": {
      "text/plain": [
       "<matplotlib.axes._subplots.AxesSubplot at 0x17570cf8f10>"
      ]
     },
     "execution_count": 4,
     "metadata": {},
     "output_type": "execute_result"
    },
    {
     "data": {
      "image/png": "[encoded data removed]",
      "text/plain": [
       "<Figure size 432x288 with 1 Axes>"
      ]
     },
     "metadata": {
      "needs_background": "light"
     },
     "output_type": "display_data"
    }
   ],
   "source": [
    "jp = pool[pool[\"NAME\"] == \"Jardel Pool\"]\n",
    "jp.plot()"
   ]
  },
  {
   "cell_type": "markdown",
   "metadata": {},
   "source": [
    "<div class=\"alert alert-block alert-info\">\n",
    "    \n",
    "* <span style='font-family:Georgia'> Create the buffer around the Jardel Pool with a distance of your choice (e.g. 10 units). \n",
    " \n",
    "</div>"
   ]
  },
  {
   "cell_type": "code",
   "execution_count": 13,
   "metadata": {},
   "outputs": [
    {
     "name": "stderr",
     "output_type": "stream",
     "text": [
      "C:\\Users\\yeshw\\AppData\\Local\\Temp\\ipykernel_21536\\1497143889.py:1: UserWarning: Geometry is in a geographic CRS. Results from 'buffer' are likely incorrect. Use 'GeoSeries.to_crs()' to re-project geometries to a projected CRS before this operation.\n",
      "\n",
      "  jp_buf = jp.buffer(0.01)\n"
     ]
    }
   ],
   "source": [
    "jp_buf = jp.buffer(0.01)"
   ]
  },
  {
   "cell_type": "markdown",
   "metadata": {},
   "source": [
    "\n",
    "<div class=\"alert alert-block alert-info\">\n",
    "    \n",
    "* <span style='font-family:Georgia'> Plot the buffered point around the Jardel Pool  . \n",
    " \n",
    "</div>"
   ]
  },
  {
   "cell_type": "code",
   "execution_count": 14,
   "metadata": {},
   "outputs": [
    {
     "data": {
      "image/png": "[encoded data removed]",
      "text/plain": [
       "<Figure size 576x432 with 1 Axes>"
      ]
     },
     "metadata": {
      "needs_background": "light"
     },
     "output_type": "display_data"
    }
   ],
   "source": [
    "fig, ax = plt.subplots(figsize=(8,6))\n",
    "pool.plot(ax=ax)\n",
    "jp_buf.plot(ax=ax, color=\"red\")\n",
    "plt.show()"
   ]
  },
  {
   "cell_type": "markdown",
   "metadata": {},
   "source": [
    "\n",
    "<div class=\"alert alert-block alert-info\">\n",
    "    \n",
    "* <span style='font-family:Georgia'> Which number did you choose for the distance?. \n",
    " \n",
    "</div>"
   ]
  },
  {
   "cell_type": "markdown",
   "metadata": {},
   "source": [
    "<div class=\"alert alert-block alert-info\">\n",
    "    \n",
    "* <span style='font-family:Georgia'> Is it meters, Kilometers, foot or something else? How do you know it? (Hint: Check the CRS)\n",
    " \n",
    "</div>"
   ]
  },
  {
   "cell_type": "code",
   "execution_count": 15,
   "metadata": {},
   "outputs": [
    {
     "data": {
      "text/plain": [
       "<Geographic 2D CRS: EPSG:4326>\n",
       "Name: WGS 84\n",
       "Axis Info [ellipsoidal]:\n",
       "- Lat[north]: Geodetic latitude (degree)\n",
       "- Lon[east]: Geodetic longitude (degree)\n",
       "Area of Use:\n",
       "- name: World.\n",
       "- bounds: (-180.0, -90.0, 180.0, 90.0)\n",
       "Datum: World Geodetic System 1984 ensemble\n",
       "- Ellipsoid: WGS 84\n",
       "- Prime Meridian: Greenwich"
      ]
     },
     "execution_count": 15,
     "metadata": {},
     "output_type": "execute_result"
    }
   ],
   "source": [
    "jp.crs\n",
    "# it is in degree's as we didn't change it"
   ]
  },
  {
   "cell_type": "markdown",
   "metadata": {},
   "source": [
    "\n",
    "<div class=\"alert alert-block alert-info\">\n",
    "    \n",
    "<b>Instructions:</b> \n",
    "\n",
    "\n",
    "* <span style='font-family:Georgia'> Can you find out a CRS that uses Meters  as Unit of measurement? (Hint: search in https://epsg.io/)\n",
    "    \n",
    "* <span style='font-family:Georgia'> If you manage to find out a CRS that has meter as unit of measure, set the CRS of the swimming pool to the meter based CRS. \n",
    " \n",
    "</div>"
   ]
  },
  {
   "cell_type": "code",
   "execution_count": 16,
   "metadata": {},
   "outputs": [],
   "source": [
    "pool = pool.to_crs(epsg=3763)"
   ]
  },
  {
   "cell_type": "markdown",
   "metadata": {},
   "source": [
    "\n",
    "\n",
    "<div class=\"alert alert-block alert-info\">\n",
    "    \n",
    "* <span style='font-family:Georgia'> Check if the CRS is changed and meter is the unit of measurement (HINT: .crs)\n",
    " \n",
    "</div>"
   ]
  },
  {
   "cell_type": "code",
   "execution_count": 17,
   "metadata": {},
   "outputs": [
    {
     "data": {
      "text/plain": [
       "<Derived Projected CRS: EPSG:3763>\n",
       "Name: ETRS89 / Portugal TM06\n",
       "Axis Info [cartesian]:\n",
       "- X[east]: Easting (metre)\n",
       "- Y[north]: Northing (metre)\n",
       "Area of Use:\n",
       "- name: Portugal - mainland - onshore.\n",
       "- bounds: (-9.56, 36.95, -6.19, 42.16)\n",
       "Coordinate Operation:\n",
       "- name: Portugual TM06\n",
       "- method: Transverse Mercator\n",
       "Datum: European Terrestrial Reference System 1989 ensemble\n",
       "- Ellipsoid: GRS 1980\n",
       "- Prime Meridian: Greenwich"
      ]
     },
     "execution_count": 17,
     "metadata": {},
     "output_type": "execute_result"
    }
   ],
   "source": [
    "pool.crs"
   ]
  },
  {
   "cell_type": "markdown",
   "metadata": {},
   "source": [
    "\n",
    "<div class=\"alert alert-block alert-info\">\n",
    "    \n",
    "* <span style='font-family:Georgia'> Now, buffer a distance of your choice (in meters) on Jardel swimming pool. Plot the buffered point.\n",
    " \n",
    "</div>\n",
    "\n"
   ]
  },
  {
   "cell_type": "code",
   "execution_count": 18,
   "metadata": {},
   "outputs": [],
   "source": [
    "jp = pool[pool[\"NAME\"] == \"Jardel Pool\"]\n",
    "jp_buf = jp.buffer(1000)"
   ]
  },
  {
   "cell_type": "markdown",
   "metadata": {},
   "source": [
    "<div class=\"alert alert-block alert-info\">\n",
    "    \n",
    "* <span style='font-family:Georgia'> Plot the buffered point.\n",
    " \n",
    "</div>"
   ]
  },
  {
   "cell_type": "code",
   "execution_count": 19,
   "metadata": {},
   "outputs": [
    {
     "data": {
      "image/png": "[encoded data removed]",
      "text/plain": [
       "<Figure size 576x432 with 1 Axes>"
      ]
     },
     "metadata": {
      "needs_background": "light"
     },
     "output_type": "display_data"
    }
   ],
   "source": [
    "fig, ax = plt.subplots(figsize=(8,6))\n",
    "pool.plot(ax=ax)\n",
    "jp_buf.plot(ax=ax, color=\"red\")\n",
    "plt.show()"
   ]
  },
  {
   "cell_type": "markdown",
   "metadata": {},
   "source": [
    "# Buffer analysis - real world application\n"
   ]
  },
  {
   "cell_type": "markdown",
   "metadata": {},
   "source": [
    "<div class=\"alert alert-block alert-info\">\n",
    "    \n",
    " <span style='font-family:Georgia'> An avaiation company, ABC, is planning to expand its flight services from Doha. The constraint however is that all the new flight services must be within 1000 kilometre range. Using your Geospatial Analysis skill, can you please tell whether a new flight service to Abu Dhabi from Doha is feasible?\n",
    " \n",
    "</div>"
   ]
  },
  {
   "cell_type": "markdown",
   "metadata": {},
   "source": [
    "<div class=\"alert alert-block alert-info\">\n",
    "    \n",
    " <span style='font-family:Georgia'> HINT: Please note that Doha and Abu Dhabi are capital cities. Can you use a dataset already available with GeoPandas library (gpd.datasets.available) to locate the geometry points for these cities.\n",
    " \n",
    "</div>"
   ]
  },
  {
   "cell_type": "code",
   "execution_count": 20,
   "metadata": {},
   "outputs": [
    {
     "data": {
      "text/plain": [
       "['naturalearth_cities', 'naturalearth_lowres', 'nybb']"
      ]
     },
     "execution_count": 20,
     "metadata": {},
     "output_type": "execute_result"
    }
   ],
   "source": [
    "# Let us see what data is available in Geopandas\n",
    "gpd.datasets.available"
   ]
  },
  {
   "cell_type": "code",
   "execution_count": 33,
   "metadata": {},
   "outputs": [],
   "source": [
    "cities = gpd.read_file(gpd.datasets.get_path(\"naturalearth_cities\"))\n",
    "world = gpd.read_file(gpd.datasets.get_path(\"naturalearth_lowres\"))"
   ]
  },
  {
   "cell_type": "code",
   "execution_count": 22,
   "metadata": {},
   "outputs": [
    {
     "data": {
      "text/plain": [
       "<Geographic 2D CRS: EPSG:4326>\n",
       "Name: WGS 84\n",
       "Axis Info [ellipsoidal]:\n",
       "- Lat[north]: Geodetic latitude (degree)\n",
       "- Lon[east]: Geodetic longitude (degree)\n",
       "Area of Use:\n",
       "- name: World.\n",
       "- bounds: (-180.0, -90.0, 180.0, 90.0)\n",
       "Datum: World Geodetic System 1984 ensemble\n",
       "- Ellipsoid: WGS 84\n",
       "- Prime Meridian: Greenwich"
      ]
     },
     "execution_count": 22,
     "metadata": {},
     "output_type": "execute_result"
    }
   ],
   "source": [
    "doha = cities[cities[\"name\"]==\"Doha\"]\n",
    "abu_dhabi = cities[cities[\"name\"]==\"Abu Dhabi\"]\n",
    "coi = gpd.GeoDataFrame( pd.concat( [doha, abu_dhabi], ignore_index=True) )\n",
    "coi.crs"
   ]
  },
  {
   "cell_type": "code",
   "execution_count": 34,
   "metadata": {},
   "outputs": [
    {
     "data": {
      "text/plain": [
       "<Derived Projected CRS: EPSG:3763>\n",
       "Name: ETRS89 / Portugal TM06\n",
       "Axis Info [cartesian]:\n",
       "- X[east]: Easting (metre)\n",
       "- Y[north]: Northing (metre)\n",
       "Area of Use:\n",
       "- name: Portugal - mainland - onshore.\n",
       "- bounds: (-9.56, 36.95, -6.19, 42.16)\n",
       "Coordinate Operation:\n",
       "- name: Portugual TM06\n",
       "- method: Transverse Mercator\n",
       "Datum: European Terrestrial Reference System 1989 ensemble\n",
       "- Ellipsoid: GRS 1980\n",
       "- Prime Meridian: Greenwich"
      ]
     },
     "execution_count": 34,
     "metadata": {},
     "output_type": "execute_result"
    }
   ],
   "source": [
    "coi = coi.to_crs(3763)\n",
    "world = world.to_crs(3763)\n",
    "coi.crs"
   ]
  },
  {
   "cell_type": "code",
   "execution_count": 45,
   "metadata": {},
   "outputs": [
    {
     "data": {
      "image/png": "[encoded data removed]",
      "text/plain": [
       "<Figure size 720x720 with 1 Axes>"
      ]
     },
     "metadata": {
      "needs_background": "light"
     },
     "output_type": "display_data"
    }
   ],
   "source": [
    "doha = coi[coi[\"name\"]==\"Doha\"]\n",
    "doha = doha.buffer(1000*1000) # 1km = 1000kms\n",
    "\n",
    "fig, ax = plt.subplots(figsize=(10,10))\n",
    "coi.plot(ax=ax)\n",
    "doha.plot(ax=ax, color=\"red\", alpha=0.5)\n",
    "plt.show()"
   ]
  },
  {
   "cell_type": "markdown",
   "metadata": {},
   "source": [
    "# Workshop deliverable"
   ]
  },
  {
   "cell_type": "markdown",
   "metadata": {},
   "source": [
    "You are required to submit a copy of this solved Jupyter notebook through the Workshop 5 Submission Point on the Moodle. Since this is a teamwork so your work will most likely be identical to your team members. Despite that each team member should submit independently."
   ]
  }
 ],
 "metadata": {
  "hide_input": false,
  "kernelspec": {
   "display_name": "Python 3",
   "language": "python",
   "name": "python3"
  },
  "language_info": {
   "codemirror_mode": {
    "name": "ipython",
    "version": 3
   },
   "file_extension": ".py",
   "mimetype": "text/x-python",
   "name": "python",
   "nbconvert_exporter": "python",
   "pygments_lexer": "ipython3",
   "version": "3.8.5"
  }
 },
 "nbformat": 4,
 "nbformat_minor": 4
}
