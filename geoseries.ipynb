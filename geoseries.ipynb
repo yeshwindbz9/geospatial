{
 "cells": [
  {
   "cell_type": "markdown",
   "metadata": {},
   "source": [
    "# <h1><center>Demo 3</center></h1>\n",
    "\n",
    "## GeoDataFrame & GeoSeries\n"
   ]
  },
  {
   "cell_type": "code",
   "execution_count": 1,
   "metadata": {},
   "outputs": [],
   "source": [
    "# Import Geopandas and Pandas\n",
    "import geopandas as gpd\n",
    "import pandas as pd"
   ]
  },
  {
   "cell_type": "code",
   "execution_count": 2,
   "metadata": {},
   "outputs": [
    {
     "data": {
      "text/html": [
       "<div>\n",
       "<style scoped>\n",
       "    .dataframe tbody tr th:only-of-type {\n",
       "        vertical-align: middle;\n",
       "    }\n",
       "\n",
       "    .dataframe tbody tr th {\n",
       "        vertical-align: top;\n",
       "    }\n",
       "\n",
       "    .dataframe thead th {\n",
       "        text-align: right;\n",
       "    }\n",
       "</style>\n",
       "<table border=\"1\" class=\"dataframe\">\n",
       "  <thead>\n",
       "    <tr style=\"text-align: right;\">\n",
       "      <th></th>\n",
       "      <th>NAME</th>\n",
       "      <th>POP_EST</th>\n",
       "      <th>GDP_MD_EST</th>\n",
       "      <th>POP_YEAR</th>\n",
       "      <th>LASTCENSUS</th>\n",
       "      <th>GDP_YEAR</th>\n",
       "      <th>ECONOMY</th>\n",
       "      <th>INCOME_GRP</th>\n",
       "      <th>CONTINENT</th>\n",
       "      <th>REGION_UN</th>\n",
       "      <th>SUBREGION</th>\n",
       "      <th>geometry</th>\n",
       "    </tr>\n",
       "  </thead>\n",
       "  <tbody>\n",
       "    <tr>\n",
       "      <th>0</th>\n",
       "      <td>Indonesia</td>\n",
       "      <td>260580739</td>\n",
       "      <td>3028000.0</td>\n",
       "      <td>2017</td>\n",
       "      <td>2010</td>\n",
       "      <td>2016</td>\n",
       "      <td>4. Emerging region: MIKT</td>\n",
       "      <td>4. Lower middle income</td>\n",
       "      <td>Asia</td>\n",
       "      <td>Asia</td>\n",
       "      <td>South-Eastern Asia</td>\n",
       "      <td>MULTIPOLYGON (((117.70361 4.16341, 117.70361 4...</td>\n",
       "    </tr>\n",
       "    <tr>\n",
       "      <th>1</th>\n",
       "      <td>Malaysia</td>\n",
       "      <td>31381992</td>\n",
       "      <td>863000.0</td>\n",
       "      <td>2017</td>\n",
       "      <td>2010</td>\n",
       "      <td>2016</td>\n",
       "      <td>6. Developing region</td>\n",
       "      <td>3. Upper middle income</td>\n",
       "      <td>Asia</td>\n",
       "      <td>Asia</td>\n",
       "      <td>South-Eastern Asia</td>\n",
       "      <td>MULTIPOLYGON (((117.70361 4.16341, 117.69711 4...</td>\n",
       "    </tr>\n",
       "    <tr>\n",
       "      <th>2</th>\n",
       "      <td>Chile</td>\n",
       "      <td>17789267</td>\n",
       "      <td>436100.0</td>\n",
       "      <td>2017</td>\n",
       "      <td>2002</td>\n",
       "      <td>2016</td>\n",
       "      <td>5. Emerging region: G20</td>\n",
       "      <td>3. Upper middle income</td>\n",
       "      <td>South America</td>\n",
       "      <td>Americas</td>\n",
       "      <td>South America</td>\n",
       "      <td>MULTIPOLYGON (((-69.51009 -17.50659, -69.50611...</td>\n",
       "    </tr>\n",
       "    <tr>\n",
       "      <th>3</th>\n",
       "      <td>Bolivia</td>\n",
       "      <td>11138234</td>\n",
       "      <td>78350.0</td>\n",
       "      <td>2017</td>\n",
       "      <td>2001</td>\n",
       "      <td>2016</td>\n",
       "      <td>5. Emerging region: G20</td>\n",
       "      <td>4. Lower middle income</td>\n",
       "      <td>South America</td>\n",
       "      <td>Americas</td>\n",
       "      <td>South America</td>\n",
       "      <td>POLYGON ((-69.51009 -17.50659, -69.51009 -17.5...</td>\n",
       "    </tr>\n",
       "    <tr>\n",
       "      <th>4</th>\n",
       "      <td>Peru</td>\n",
       "      <td>31036656</td>\n",
       "      <td>410400.0</td>\n",
       "      <td>2017</td>\n",
       "      <td>2007</td>\n",
       "      <td>2016</td>\n",
       "      <td>5. Emerging region: G20</td>\n",
       "      <td>3. Upper middle income</td>\n",
       "      <td>South America</td>\n",
       "      <td>Americas</td>\n",
       "      <td>South America</td>\n",
       "      <td>MULTIPOLYGON (((-69.51009 -17.50659, -69.63832...</td>\n",
       "    </tr>\n",
       "  </tbody>\n",
       "</table>\n",
       "</div>"
      ],
      "text/plain": [
       "        NAME    POP_EST  GDP_MD_EST  POP_YEAR  LASTCENSUS  GDP_YEAR  \\\n",
       "0  Indonesia  260580739   3028000.0      2017        2010      2016   \n",
       "1   Malaysia   31381992    863000.0      2017        2010      2016   \n",
       "2      Chile   17789267    436100.0      2017        2002      2016   \n",
       "3    Bolivia   11138234     78350.0      2017        2001      2016   \n",
       "4       Peru   31036656    410400.0      2017        2007      2016   \n",
       "\n",
       "                    ECONOMY              INCOME_GRP      CONTINENT REGION_UN  \\\n",
       "0  4. Emerging region: MIKT  4. Lower middle income           Asia      Asia   \n",
       "1      6. Developing region  3. Upper middle income           Asia      Asia   \n",
       "2   5. Emerging region: G20  3. Upper middle income  South America  Americas   \n",
       "3   5. Emerging region: G20  4. Lower middle income  South America  Americas   \n",
       "4   5. Emerging region: G20  3. Upper middle income  South America  Americas   \n",
       "\n",
       "            SUBREGION                                           geometry  \n",
       "0  South-Eastern Asia  MULTIPOLYGON (((117.70361 4.16341, 117.70361 4...  \n",
       "1  South-Eastern Asia  MULTIPOLYGON (((117.70361 4.16341, 117.69711 4...  \n",
       "2       South America  MULTIPOLYGON (((-69.51009 -17.50659, -69.50611...  \n",
       "3       South America  POLYGON ((-69.51009 -17.50659, -69.51009 -17.5...  \n",
       "4       South America  MULTIPOLYGON (((-69.51009 -17.50659, -69.63832...  "
      ]
     },
     "execution_count": 2,
     "metadata": {},
     "output_type": "execute_result"
    }
   ],
   "source": [
    "# 1. Read Countries\n",
    "shp = 'data/countries.shp'\n",
    "countries = gpd.read_file(shp)\n",
    "countries.head()"
   ]
  },
  {
   "cell_type": "markdown",
   "metadata": {},
   "source": [
    "## DataFrame vs. GeoDataFrame\n",
    "\n"
   ]
  },
  {
   "cell_type": "markdown",
   "metadata": {},
   "source": [
    "Let's try out a DataFrame"
   ]
  },
  {
   "cell_type": "code",
   "execution_count": 4,
   "metadata": {},
   "outputs": [
    {
     "data": {
      "text/html": [
       "<div>\n",
       "<style scoped>\n",
       "    .dataframe tbody tr th:only-of-type {\n",
       "        vertical-align: middle;\n",
       "    }\n",
       "\n",
       "    .dataframe tbody tr th {\n",
       "        vertical-align: top;\n",
       "    }\n",
       "\n",
       "    .dataframe thead th {\n",
       "        text-align: right;\n",
       "    }\n",
       "</style>\n",
       "<table border=\"1\" class=\"dataframe\">\n",
       "  <thead>\n",
       "    <tr style=\"text-align: right;\">\n",
       "      <th></th>\n",
       "      <th>NAME</th>\n",
       "      <th>POP_EST</th>\n",
       "    </tr>\n",
       "  </thead>\n",
       "  <tbody>\n",
       "    <tr>\n",
       "      <th>0</th>\n",
       "      <td>Indonesia</td>\n",
       "      <td>260580739</td>\n",
       "    </tr>\n",
       "    <tr>\n",
       "      <th>1</th>\n",
       "      <td>Malaysia</td>\n",
       "      <td>31381992</td>\n",
       "    </tr>\n",
       "    <tr>\n",
       "      <th>2</th>\n",
       "      <td>Chile</td>\n",
       "      <td>17789267</td>\n",
       "    </tr>\n",
       "    <tr>\n",
       "      <th>3</th>\n",
       "      <td>Bolivia</td>\n",
       "      <td>11138234</td>\n",
       "    </tr>\n",
       "    <tr>\n",
       "      <th>4</th>\n",
       "      <td>Peru</td>\n",
       "      <td>31036656</td>\n",
       "    </tr>\n",
       "  </tbody>\n",
       "</table>\n",
       "</div>"
      ],
      "text/plain": [
       "        NAME    POP_EST\n",
       "0  Indonesia  260580739\n",
       "1   Malaysia   31381992\n",
       "2      Chile   17789267\n",
       "3    Bolivia   11138234\n",
       "4       Peru   31036656"
      ]
     },
     "execution_count": 4,
     "metadata": {},
     "output_type": "execute_result"
    }
   ],
   "source": [
    "df = countries[[\"NAME\", \"POP_EST\"]]\n",
    "df.head()"
   ]
  },
  {
   "cell_type": "code",
   "execution_count": 5,
   "metadata": {},
   "outputs": [
    {
     "data": {
      "text/plain": [
       "pandas.core.frame.DataFrame"
      ]
     },
     "execution_count": 5,
     "metadata": {},
     "output_type": "execute_result"
    }
   ],
   "source": [
    "# What's the type of the DataFrame?\n",
    "type(df)"
   ]
  },
  {
   "cell_type": "markdown",
   "metadata": {},
   "source": [
    "Let's try out a GeoDataFrame"
   ]
  },
  {
   "cell_type": "code",
   "execution_count": 6,
   "metadata": {},
   "outputs": [
    {
     "data": {
      "text/html": [
       "<div>\n",
       "<style scoped>\n",
       "    .dataframe tbody tr th:only-of-type {\n",
       "        vertical-align: middle;\n",
       "    }\n",
       "\n",
       "    .dataframe tbody tr th {\n",
       "        vertical-align: top;\n",
       "    }\n",
       "\n",
       "    .dataframe thead th {\n",
       "        text-align: right;\n",
       "    }\n",
       "</style>\n",
       "<table border=\"1\" class=\"dataframe\">\n",
       "  <thead>\n",
       "    <tr style=\"text-align: right;\">\n",
       "      <th></th>\n",
       "      <th>NAME</th>\n",
       "      <th>geometry</th>\n",
       "    </tr>\n",
       "  </thead>\n",
       "  <tbody>\n",
       "    <tr>\n",
       "      <th>0</th>\n",
       "      <td>Indonesia</td>\n",
       "      <td>MULTIPOLYGON (((117.70361 4.16341, 117.70361 4...</td>\n",
       "    </tr>\n",
       "    <tr>\n",
       "      <th>1</th>\n",
       "      <td>Malaysia</td>\n",
       "      <td>MULTIPOLYGON (((117.70361 4.16341, 117.69711 4...</td>\n",
       "    </tr>\n",
       "    <tr>\n",
       "      <th>2</th>\n",
       "      <td>Chile</td>\n",
       "      <td>MULTIPOLYGON (((-69.51009 -17.50659, -69.50611...</td>\n",
       "    </tr>\n",
       "    <tr>\n",
       "      <th>3</th>\n",
       "      <td>Bolivia</td>\n",
       "      <td>POLYGON ((-69.51009 -17.50659, -69.51009 -17.5...</td>\n",
       "    </tr>\n",
       "    <tr>\n",
       "      <th>4</th>\n",
       "      <td>Peru</td>\n",
       "      <td>MULTIPOLYGON (((-69.51009 -17.50659, -69.63832...</td>\n",
       "    </tr>\n",
       "  </tbody>\n",
       "</table>\n",
       "</div>"
      ],
      "text/plain": [
       "        NAME                                           geometry\n",
       "0  Indonesia  MULTIPOLYGON (((117.70361 4.16341, 117.70361 4...\n",
       "1   Malaysia  MULTIPOLYGON (((117.70361 4.16341, 117.69711 4...\n",
       "2      Chile  MULTIPOLYGON (((-69.51009 -17.50659, -69.50611...\n",
       "3    Bolivia  POLYGON ((-69.51009 -17.50659, -69.51009 -17.5...\n",
       "4       Peru  MULTIPOLYGON (((-69.51009 -17.50659, -69.63832..."
      ]
     },
     "execution_count": 6,
     "metadata": {},
     "output_type": "execute_result"
    }
   ],
   "source": [
    "geo_df = countries[[\"NAME\", \"geometry\"]]\n",
    "geo_df.head()"
   ]
  },
  {
   "cell_type": "code",
   "execution_count": 7,
   "metadata": {},
   "outputs": [
    {
     "data": {
      "text/plain": [
       "geopandas.geodataframe.GeoDataFrame"
      ]
     },
     "execution_count": 7,
     "metadata": {},
     "output_type": "execute_result"
    }
   ],
   "source": [
    "# What's the type of the GeoDataFrame?\n",
    "type(geo_df)"
   ]
  },
  {
   "cell_type": "markdown",
   "metadata": {},
   "source": [
    "## Series vs. GeoSeries"
   ]
  },
  {
   "cell_type": "code",
   "execution_count": 9,
   "metadata": {},
   "outputs": [
    {
     "data": {
      "text/plain": [
       "0    Indonesia\n",
       "1     Malaysia\n",
       "2        Chile\n",
       "3      Bolivia\n",
       "4         Peru\n",
       "Name: NAME, dtype: object"
      ]
     },
     "execution_count": 9,
     "metadata": {},
     "output_type": "execute_result"
    }
   ],
   "source": [
    "# Series\n",
    "series = countries[\"NAME\"]\n",
    "series[:5]"
   ]
  },
  {
   "cell_type": "code",
   "execution_count": 10,
   "metadata": {},
   "outputs": [
    {
     "data": {
      "text/plain": [
       "pandas.core.series.Series"
      ]
     },
     "execution_count": 10,
     "metadata": {},
     "output_type": "execute_result"
    }
   ],
   "source": [
    "type(series)"
   ]
  },
  {
   "cell_type": "code",
   "execution_count": 11,
   "metadata": {},
   "outputs": [],
   "source": [
    "# GeoSeries\n",
    "geo_series = countries[\"geometry\"]"
   ]
  },
  {
   "cell_type": "code",
   "execution_count": 13,
   "metadata": {},
   "outputs": [
    {
     "data": {
      "text/plain": [
       "geopandas.geoseries.GeoSeries"
      ]
     },
     "execution_count": 13,
     "metadata": {},
     "output_type": "execute_result"
    }
   ],
   "source": [
    "type(geo_series)"
   ]
  },
  {
   "cell_type": "markdown",
   "metadata": {},
   "source": [
    "### That's all"
   ]
  }
 ],
 "metadata": {
  "kernelspec": {
   "display_name": "Python 3",
   "language": "python",
   "name": "python3"
  },
  "language_info": {
   "codemirror_mode": {
    "name": "ipython",
    "version": 3
   },
   "file_extension": ".py",
   "mimetype": "text/x-python",
   "name": "python",
   "nbconvert_exporter": "python",
   "pygments_lexer": "ipython3",
   "version": "3.8.12"
  }
 },
 "nbformat": 4,
 "nbformat_minor": 4
}
