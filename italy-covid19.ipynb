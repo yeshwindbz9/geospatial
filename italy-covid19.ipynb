{
 "cells": [
  {
   "cell_type": "markdown",
   "metadata": {},
   "source": [
    "# Imports"
   ]
  },
  {
   "cell_type": "code",
   "execution_count": 1,
   "metadata": {},
   "outputs": [],
   "source": [
    "import pandas as pd\n",
    "import geopandas as gpd\n",
    "from geopy.geocoders import Nominatim"
   ]
  },
  {
   "cell_type": "markdown",
   "metadata": {},
   "source": [
    "# Creating and Reading the dataframe"
   ]
  },
  {
   "cell_type": "code",
   "execution_count": 2,
   "metadata": {},
   "outputs": [
    {
     "data": {
      "text/html": [
       "<div>\n",
       "<style scoped>\n",
       "    .dataframe tbody tr th:only-of-type {\n",
       "        vertical-align: middle;\n",
       "    }\n",
       "\n",
       "    .dataframe tbody tr th {\n",
       "        vertical-align: top;\n",
       "    }\n",
       "\n",
       "    .dataframe thead th {\n",
       "        text-align: right;\n",
       "    }\n",
       "</style>\n",
       "<table border=\"1\" class=\"dataframe\">\n",
       "  <thead>\n",
       "    <tr style=\"text-align: right;\">\n",
       "      <th></th>\n",
       "      <th>SNo</th>\n",
       "      <th>Date</th>\n",
       "      <th>Country</th>\n",
       "      <th>RegionName</th>\n",
       "      <th>HospitalizedPatients</th>\n",
       "    </tr>\n",
       "  </thead>\n",
       "  <tbody>\n",
       "    <tr>\n",
       "      <th>0</th>\n",
       "      <td>0</td>\n",
       "      <td>2020-02-24T18:00:00</td>\n",
       "      <td>ITA</td>\n",
       "      <td>Abruzzo</td>\n",
       "      <td>0</td>\n",
       "    </tr>\n",
       "    <tr>\n",
       "      <th>1</th>\n",
       "      <td>1</td>\n",
       "      <td>2020-02-24T18:00:00</td>\n",
       "      <td>ITA</td>\n",
       "      <td>Basilicata</td>\n",
       "      <td>0</td>\n",
       "    </tr>\n",
       "    <tr>\n",
       "      <th>2</th>\n",
       "      <td>2</td>\n",
       "      <td>2020-02-24T18:00:00</td>\n",
       "      <td>ITA</td>\n",
       "      <td>Calabria</td>\n",
       "      <td>0</td>\n",
       "    </tr>\n",
       "    <tr>\n",
       "      <th>3</th>\n",
       "      <td>3</td>\n",
       "      <td>2020-02-24T18:00:00</td>\n",
       "      <td>ITA</td>\n",
       "      <td>Campania</td>\n",
       "      <td>0</td>\n",
       "    </tr>\n",
       "    <tr>\n",
       "      <th>4</th>\n",
       "      <td>4</td>\n",
       "      <td>2020-02-24T18:00:00</td>\n",
       "      <td>ITA</td>\n",
       "      <td>Emilia-Romagna</td>\n",
       "      <td>10</td>\n",
       "    </tr>\n",
       "  </tbody>\n",
       "</table>\n",
       "</div>"
      ],
      "text/plain": [
       "   SNo                 Date Country      RegionName  HospitalizedPatients\n",
       "0    0  2020-02-24T18:00:00     ITA         Abruzzo                     0\n",
       "1    1  2020-02-24T18:00:00     ITA      Basilicata                     0\n",
       "2    2  2020-02-24T18:00:00     ITA        Calabria                     0\n",
       "3    3  2020-02-24T18:00:00     ITA        Campania                     0\n",
       "4    4  2020-02-24T18:00:00     ITA  Emilia-Romagna                    10"
      ]
     },
     "execution_count": 2,
     "metadata": {},
     "output_type": "execute_result"
    }
   ],
   "source": [
    "df1 = pd.read_csv(\"data/covid19_italy_region.csv\")\n",
    "df1.head()"
   ]
  },
  {
   "cell_type": "markdown",
   "metadata": {},
   "source": [
    "# Randomly selecting 20 rows of this DataFrame to create a smaller DataFrame (e.g. df2) with these 20 rows of data."
   ]
  },
  {
   "cell_type": "code",
   "execution_count": 3,
   "metadata": {},
   "outputs": [
    {
     "data": {
      "text/html": [
       "<div>\n",
       "<style scoped>\n",
       "    .dataframe tbody tr th:only-of-type {\n",
       "        vertical-align: middle;\n",
       "    }\n",
       "\n",
       "    .dataframe tbody tr th {\n",
       "        vertical-align: top;\n",
       "    }\n",
       "\n",
       "    .dataframe thead th {\n",
       "        text-align: right;\n",
       "    }\n",
       "</style>\n",
       "<table border=\"1\" class=\"dataframe\">\n",
       "  <thead>\n",
       "    <tr style=\"text-align: right;\">\n",
       "      <th></th>\n",
       "      <th>SNo</th>\n",
       "      <th>Date</th>\n",
       "      <th>Country</th>\n",
       "      <th>RegionName</th>\n",
       "      <th>HospitalizedPatients</th>\n",
       "    </tr>\n",
       "  </thead>\n",
       "  <tbody>\n",
       "    <tr>\n",
       "      <th>2170</th>\n",
       "      <td>2170</td>\n",
       "      <td>2020-06-06T17:00:00</td>\n",
       "      <td>ITA</td>\n",
       "      <td>Liguria</td>\n",
       "      <td>136</td>\n",
       "    </tr>\n",
       "    <tr>\n",
       "      <th>4944</th>\n",
       "      <td>4944</td>\n",
       "      <td>2020-10-16T17:00:00</td>\n",
       "      <td>ITA</td>\n",
       "      <td>Marche</td>\n",
       "      <td>73</td>\n",
       "    </tr>\n",
       "    <tr>\n",
       "      <th>2334</th>\n",
       "      <td>2334</td>\n",
       "      <td>2020-06-14T17:00:00</td>\n",
       "      <td>ITA</td>\n",
       "      <td>Campania</td>\n",
       "      <td>53</td>\n",
       "    </tr>\n",
       "    <tr>\n",
       "      <th>4923</th>\n",
       "      <td>4923</td>\n",
       "      <td>2020-10-15T17:00:00</td>\n",
       "      <td>ITA</td>\n",
       "      <td>Marche</td>\n",
       "      <td>61</td>\n",
       "    </tr>\n",
       "    <tr>\n",
       "      <th>4740</th>\n",
       "      <td>4740</td>\n",
       "      <td>2020-10-06T17:00:00</td>\n",
       "      <td>ITA</td>\n",
       "      <td>Sardegna</td>\n",
       "      <td>125</td>\n",
       "    </tr>\n",
       "  </tbody>\n",
       "</table>\n",
       "</div>"
      ],
      "text/plain": [
       "       SNo                 Date Country RegionName  HospitalizedPatients\n",
       "2170  2170  2020-06-06T17:00:00     ITA    Liguria                   136\n",
       "4944  4944  2020-10-16T17:00:00     ITA     Marche                    73\n",
       "2334  2334  2020-06-14T17:00:00     ITA   Campania                    53\n",
       "4923  4923  2020-10-15T17:00:00     ITA     Marche                    61\n",
       "4740  4740  2020-10-06T17:00:00     ITA   Sardegna                   125"
      ]
     },
     "execution_count": 3,
     "metadata": {},
     "output_type": "execute_result"
    }
   ],
   "source": [
    "df2 = df1.sample(n=20)\n",
    "df2.head()"
   ]
  },
  {
   "cell_type": "markdown",
   "metadata": {},
   "source": [
    "# Calculating the mean of HospitalizedPatients corresponding to that particular RegionName"
   ]
  },
  {
   "cell_type": "code",
   "execution_count": 4,
   "metadata": {},
   "outputs": [
    {
     "data": {
      "text/html": [
       "<div>\n",
       "<style scoped>\n",
       "    .dataframe tbody tr th:only-of-type {\n",
       "        vertical-align: middle;\n",
       "    }\n",
       "\n",
       "    .dataframe tbody tr th {\n",
       "        vertical-align: top;\n",
       "    }\n",
       "\n",
       "    .dataframe thead th {\n",
       "        text-align: right;\n",
       "    }\n",
       "</style>\n",
       "<table border=\"1\" class=\"dataframe\">\n",
       "  <thead>\n",
       "    <tr style=\"text-align: right;\">\n",
       "      <th></th>\n",
       "      <th>RegionName</th>\n",
       "      <th>SNo</th>\n",
       "      <th>HospitalizedPatients</th>\n",
       "    </tr>\n",
       "  </thead>\n",
       "  <tbody>\n",
       "    <tr>\n",
       "      <th>0</th>\n",
       "      <td>Abruzzo</td>\n",
       "      <td>2814.0</td>\n",
       "      <td>28.0</td>\n",
       "    </tr>\n",
       "    <tr>\n",
       "      <th>1</th>\n",
       "      <td>Calabria</td>\n",
       "      <td>1283.0</td>\n",
       "      <td>125.0</td>\n",
       "    </tr>\n",
       "    <tr>\n",
       "      <th>2</th>\n",
       "      <td>Campania</td>\n",
       "      <td>2334.0</td>\n",
       "      <td>53.0</td>\n",
       "    </tr>\n",
       "    <tr>\n",
       "      <th>3</th>\n",
       "      <td>Emilia-Romagna</td>\n",
       "      <td>3143.5</td>\n",
       "      <td>1933.5</td>\n",
       "    </tr>\n",
       "    <tr>\n",
       "      <th>4</th>\n",
       "      <td>Liguria</td>\n",
       "      <td>2170.0</td>\n",
       "      <td>136.0</td>\n",
       "    </tr>\n",
       "    <tr>\n",
       "      <th>5</th>\n",
       "      <td>Marche</td>\n",
       "      <td>4933.5</td>\n",
       "      <td>67.0</td>\n",
       "    </tr>\n",
       "    <tr>\n",
       "      <th>6</th>\n",
       "      <td>P.A. Trento</td>\n",
       "      <td>2679.0</td>\n",
       "      <td>142.0</td>\n",
       "    </tr>\n",
       "    <tr>\n",
       "      <th>7</th>\n",
       "      <td>Puglia</td>\n",
       "      <td>2933.0</td>\n",
       "      <td>390.5</td>\n",
       "    </tr>\n",
       "    <tr>\n",
       "      <th>8</th>\n",
       "      <td>Sardegna</td>\n",
       "      <td>2409.0</td>\n",
       "      <td>62.5</td>\n",
       "    </tr>\n",
       "    <tr>\n",
       "      <th>9</th>\n",
       "      <td>Sicilia</td>\n",
       "      <td>3796.0</td>\n",
       "      <td>45.0</td>\n",
       "    </tr>\n",
       "    <tr>\n",
       "      <th>10</th>\n",
       "      <td>Umbria</td>\n",
       "      <td>4344.0</td>\n",
       "      <td>25.0</td>\n",
       "    </tr>\n",
       "    <tr>\n",
       "      <th>11</th>\n",
       "      <td>Valle d'Aosta</td>\n",
       "      <td>4240.0</td>\n",
       "      <td>1.5</td>\n",
       "    </tr>\n",
       "    <tr>\n",
       "      <th>12</th>\n",
       "      <td>Veneto</td>\n",
       "      <td>4283.0</td>\n",
       "      <td>1231.5</td>\n",
       "    </tr>\n",
       "  </tbody>\n",
       "</table>\n",
       "</div>"
      ],
      "text/plain": [
       "        RegionName     SNo  HospitalizedPatients\n",
       "0          Abruzzo  2814.0                  28.0\n",
       "1         Calabria  1283.0                 125.0\n",
       "2         Campania  2334.0                  53.0\n",
       "3   Emilia-Romagna  3143.5                1933.5\n",
       "4          Liguria  2170.0                 136.0\n",
       "5           Marche  4933.5                  67.0\n",
       "6      P.A. Trento  2679.0                 142.0\n",
       "7           Puglia  2933.0                 390.5\n",
       "8         Sardegna  2409.0                  62.5\n",
       "9          Sicilia  3796.0                  45.0\n",
       "10          Umbria  4344.0                  25.0\n",
       "11   Valle d'Aosta  4240.0                   1.5\n",
       "12          Veneto  4283.0                1231.5"
      ]
     },
     "execution_count": 4,
     "metadata": {},
     "output_type": "execute_result"
    }
   ],
   "source": [
    "df = df2.groupby(\"RegionName\", as_index=False).mean()\n",
    "df"
   ]
  },
  {
   "cell_type": "markdown",
   "metadata": {},
   "source": [
    "# Performing the geocoding of the data to extract the coordinates (lat & lon) of each RegionName "
   ]
  },
  {
   "cell_type": "code",
   "execution_count": 5,
   "metadata": {},
   "outputs": [],
   "source": [
    "geolocator = Nominatim(user_agent=\"MSc21\")\n",
    "from geopy.extra.rate_limiter import RateLimiter\n",
    "locat = df[\"RegionName\"]\n",
    "df_temp = pd.DataFrame({'add': locat})\n",
    "geocode = RateLimiter(geolocator.geocode, min_delay_seconds=1)\n",
    " \n",
    "#Applying the method to pandas DataFrame\n",
    "df['location'] = df_temp['add'].apply(geocode)\n",
    "df['Lat'] = df['location'].apply(lambda x: x.latitude if x else None)\n",
    "df['Lon'] = df['location'].apply(lambda x: x.longitude if x else None)"
   ]
  },
  {
   "cell_type": "code",
   "execution_count": 6,
   "metadata": {},
   "outputs": [
    {
     "data": {
      "text/html": [
       "<div>\n",
       "<style scoped>\n",
       "    .dataframe tbody tr th:only-of-type {\n",
       "        vertical-align: middle;\n",
       "    }\n",
       "\n",
       "    .dataframe tbody tr th {\n",
       "        vertical-align: top;\n",
       "    }\n",
       "\n",
       "    .dataframe thead th {\n",
       "        text-align: right;\n",
       "    }\n",
       "</style>\n",
       "<table border=\"1\" class=\"dataframe\">\n",
       "  <thead>\n",
       "    <tr style=\"text-align: right;\">\n",
       "      <th></th>\n",
       "      <th>RegionName</th>\n",
       "      <th>SNo</th>\n",
       "      <th>HospitalizedPatients</th>\n",
       "      <th>location</th>\n",
       "      <th>Lat</th>\n",
       "      <th>Lon</th>\n",
       "    </tr>\n",
       "  </thead>\n",
       "  <tbody>\n",
       "    <tr>\n",
       "      <th>0</th>\n",
       "      <td>Abruzzo</td>\n",
       "      <td>2814.0</td>\n",
       "      <td>28.0</td>\n",
       "      <td>(Abruzzo, Italia, (42.227681, 13.854983))</td>\n",
       "      <td>42.227681</td>\n",
       "      <td>13.854983</td>\n",
       "    </tr>\n",
       "    <tr>\n",
       "      <th>1</th>\n",
       "      <td>Calabria</td>\n",
       "      <td>1283.0</td>\n",
       "      <td>125.0</td>\n",
       "      <td>(Calabria, Italia, (39.0565974, 16.5249864))</td>\n",
       "      <td>39.056597</td>\n",
       "      <td>16.524986</td>\n",
       "    </tr>\n",
       "    <tr>\n",
       "      <th>2</th>\n",
       "      <td>Campania</td>\n",
       "      <td>2334.0</td>\n",
       "      <td>53.0</td>\n",
       "      <td>(Campania, Italia, (40.860672, 14.843984))</td>\n",
       "      <td>40.860672</td>\n",
       "      <td>14.843984</td>\n",
       "    </tr>\n",
       "    <tr>\n",
       "      <th>3</th>\n",
       "      <td>Emilia-Romagna</td>\n",
       "      <td>3143.5</td>\n",
       "      <td>1933.5</td>\n",
       "      <td>(Emilia-Romagna, Italia, (44.525696, 11.039437))</td>\n",
       "      <td>44.525696</td>\n",
       "      <td>11.039437</td>\n",
       "    </tr>\n",
       "    <tr>\n",
       "      <th>4</th>\n",
       "      <td>Liguria</td>\n",
       "      <td>2170.0</td>\n",
       "      <td>136.0</td>\n",
       "      <td>(Liguria, Italia, (44.4777617, 8.7026296))</td>\n",
       "      <td>44.477762</td>\n",
       "      <td>8.702630</td>\n",
       "    </tr>\n",
       "    <tr>\n",
       "      <th>5</th>\n",
       "      <td>Marche</td>\n",
       "      <td>4933.5</td>\n",
       "      <td>67.0</td>\n",
       "      <td>(Marche, Italia, (43.3458388, 13.1415872))</td>\n",
       "      <td>43.345839</td>\n",
       "      <td>13.141587</td>\n",
       "    </tr>\n",
       "    <tr>\n",
       "      <th>6</th>\n",
       "      <td>P.A. Trento</td>\n",
       "      <td>2679.0</td>\n",
       "      <td>142.0</td>\n",
       "      <td>(Piazza Trieste e Trento, San Ferdinando, Muni...</td>\n",
       "      <td>40.837137</td>\n",
       "      <td>14.248933</td>\n",
       "    </tr>\n",
       "    <tr>\n",
       "      <th>7</th>\n",
       "      <td>Puglia</td>\n",
       "      <td>2933.0</td>\n",
       "      <td>390.5</td>\n",
       "      <td>(Puglia, Italia, (40.9842539, 16.6210027))</td>\n",
       "      <td>40.984254</td>\n",
       "      <td>16.621003</td>\n",
       "    </tr>\n",
       "    <tr>\n",
       "      <th>8</th>\n",
       "      <td>Sardegna</td>\n",
       "      <td>2409.0</td>\n",
       "      <td>62.5</td>\n",
       "      <td>(Sardigna/Sardegna, Italia, (40.0912813, 9.030...</td>\n",
       "      <td>40.091281</td>\n",
       "      <td>9.030577</td>\n",
       "    </tr>\n",
       "    <tr>\n",
       "      <th>9</th>\n",
       "      <td>Sicilia</td>\n",
       "      <td>3796.0</td>\n",
       "      <td>45.0</td>\n",
       "      <td>(Sicilia, Italia, (37.587794, 14.155048))</td>\n",
       "      <td>37.587794</td>\n",
       "      <td>14.155048</td>\n",
       "    </tr>\n",
       "    <tr>\n",
       "      <th>10</th>\n",
       "      <td>Umbria</td>\n",
       "      <td>4344.0</td>\n",
       "      <td>25.0</td>\n",
       "      <td>(Umbria, Italia, (42.965916, 12.490236))</td>\n",
       "      <td>42.965916</td>\n",
       "      <td>12.490236</td>\n",
       "    </tr>\n",
       "    <tr>\n",
       "      <th>11</th>\n",
       "      <td>Valle d'Aosta</td>\n",
       "      <td>4240.0</td>\n",
       "      <td>1.5</td>\n",
       "      <td>(Valle d'Aosta / Vallée d'Aoste, Italia, (45.7...</td>\n",
       "      <td>45.730099</td>\n",
       "      <td>7.387426</td>\n",
       "    </tr>\n",
       "    <tr>\n",
       "      <th>12</th>\n",
       "      <td>Veneto</td>\n",
       "      <td>4283.0</td>\n",
       "      <td>1231.5</td>\n",
       "      <td>(Veneto, Italia, (45.6476663, 11.8665254))</td>\n",
       "      <td>45.647666</td>\n",
       "      <td>11.866525</td>\n",
       "    </tr>\n",
       "  </tbody>\n",
       "</table>\n",
       "</div>"
      ],
      "text/plain": [
       "        RegionName     SNo  HospitalizedPatients  \\\n",
       "0          Abruzzo  2814.0                  28.0   \n",
       "1         Calabria  1283.0                 125.0   \n",
       "2         Campania  2334.0                  53.0   \n",
       "3   Emilia-Romagna  3143.5                1933.5   \n",
       "4          Liguria  2170.0                 136.0   \n",
       "5           Marche  4933.5                  67.0   \n",
       "6      P.A. Trento  2679.0                 142.0   \n",
       "7           Puglia  2933.0                 390.5   \n",
       "8         Sardegna  2409.0                  62.5   \n",
       "9          Sicilia  3796.0                  45.0   \n",
       "10          Umbria  4344.0                  25.0   \n",
       "11   Valle d'Aosta  4240.0                   1.5   \n",
       "12          Veneto  4283.0                1231.5   \n",
       "\n",
       "                                             location        Lat        Lon  \n",
       "0           (Abruzzo, Italia, (42.227681, 13.854983))  42.227681  13.854983  \n",
       "1        (Calabria, Italia, (39.0565974, 16.5249864))  39.056597  16.524986  \n",
       "2          (Campania, Italia, (40.860672, 14.843984))  40.860672  14.843984  \n",
       "3    (Emilia-Romagna, Italia, (44.525696, 11.039437))  44.525696  11.039437  \n",
       "4          (Liguria, Italia, (44.4777617, 8.7026296))  44.477762   8.702630  \n",
       "5          (Marche, Italia, (43.3458388, 13.1415872))  43.345839  13.141587  \n",
       "6   (Piazza Trieste e Trento, San Ferdinando, Muni...  40.837137  14.248933  \n",
       "7          (Puglia, Italia, (40.9842539, 16.6210027))  40.984254  16.621003  \n",
       "8   (Sardigna/Sardegna, Italia, (40.0912813, 9.030...  40.091281   9.030577  \n",
       "9           (Sicilia, Italia, (37.587794, 14.155048))  37.587794  14.155048  \n",
       "10           (Umbria, Italia, (42.965916, 12.490236))  42.965916  12.490236  \n",
       "11  (Valle d'Aosta / Vallée d'Aoste, Italia, (45.7...  45.730099   7.387426  \n",
       "12         (Veneto, Italia, (45.6476663, 11.8665254))  45.647666  11.866525  "
      ]
     },
     "execution_count": 6,
     "metadata": {},
     "output_type": "execute_result"
    }
   ],
   "source": [
    "df"
   ]
  },
  {
   "cell_type": "code",
   "execution_count": 7,
   "metadata": {},
   "outputs": [
    {
     "name": "stderr",
     "output_type": "stream",
     "text": [
      "C:\\Applications\\anaconda3\\envs\\geopy\\lib\\site-packages\\pyproj\\crs\\crs.py:131: FutureWarning: '+init=<authority>:<code>' syntax is deprecated. '<authority>:<code>' is the preferred initialization method. When making the change, be mindful of axis order changes: https://pyproj4.github.io/pyproj/stable/gotchas.html#axis-order-changes-in-proj-6\n",
      "  in_crs_string = _prepare_from_proj_string(in_crs_string)\n"
     ]
    },
    {
     "data": {
      "text/html": [
       "<div>\n",
       "<style scoped>\n",
       "    .dataframe tbody tr th:only-of-type {\n",
       "        vertical-align: middle;\n",
       "    }\n",
       "\n",
       "    .dataframe tbody tr th {\n",
       "        vertical-align: top;\n",
       "    }\n",
       "\n",
       "    .dataframe thead th {\n",
       "        text-align: right;\n",
       "    }\n",
       "</style>\n",
       "<table border=\"1\" class=\"dataframe\">\n",
       "  <thead>\n",
       "    <tr style=\"text-align: right;\">\n",
       "      <th></th>\n",
       "      <th>RegionName</th>\n",
       "      <th>HospitalizedPatients</th>\n",
       "      <th>geometry</th>\n",
       "    </tr>\n",
       "  </thead>\n",
       "  <tbody>\n",
       "    <tr>\n",
       "      <th>0</th>\n",
       "      <td>Abruzzo</td>\n",
       "      <td>28.0</td>\n",
       "      <td>POINT (13.85498 42.22768)</td>\n",
       "    </tr>\n",
       "    <tr>\n",
       "      <th>1</th>\n",
       "      <td>Calabria</td>\n",
       "      <td>125.0</td>\n",
       "      <td>POINT (16.52499 39.05660)</td>\n",
       "    </tr>\n",
       "    <tr>\n",
       "      <th>2</th>\n",
       "      <td>Campania</td>\n",
       "      <td>53.0</td>\n",
       "      <td>POINT (14.84398 40.86067)</td>\n",
       "    </tr>\n",
       "    <tr>\n",
       "      <th>3</th>\n",
       "      <td>Emilia-Romagna</td>\n",
       "      <td>1933.5</td>\n",
       "      <td>POINT (11.03944 44.52570)</td>\n",
       "    </tr>\n",
       "    <tr>\n",
       "      <th>4</th>\n",
       "      <td>Liguria</td>\n",
       "      <td>136.0</td>\n",
       "      <td>POINT (8.70263 44.47776)</td>\n",
       "    </tr>\n",
       "  </tbody>\n",
       "</table>\n",
       "</div>"
      ],
      "text/plain": [
       "       RegionName  HospitalizedPatients                   geometry\n",
       "0         Abruzzo                  28.0  POINT (13.85498 42.22768)\n",
       "1        Calabria                 125.0  POINT (16.52499 39.05660)\n",
       "2        Campania                  53.0  POINT (14.84398 40.86067)\n",
       "3  Emilia-Romagna                1933.5  POINT (11.03944 44.52570)\n",
       "4         Liguria                 136.0   POINT (8.70263 44.47776)"
      ]
     },
     "execution_count": 7,
     "metadata": {},
     "output_type": "execute_result"
    }
   ],
   "source": [
    "gdf = gpd.GeoDataFrame(\n",
    "    df[[\"RegionName\", \"HospitalizedPatients\"]],\n",
    "    crs = {'init':'EPSG:4326'},\n",
    "    geometry=gpd.points_from_xy(df.Lon, df.Lat)\n",
    ")\n",
    "gdf.head()"
   ]
  },
  {
   "cell_type": "markdown",
   "metadata": {},
   "source": [
    "#  Generating a geospatial map indicating all the RegionName and their mean HospitalizedPatients."
   ]
  },
  {
   "cell_type": "code",
   "execution_count": 15,
   "metadata": {},
   "outputs": [],
   "source": [
    "countries = gpd.read_file(\"data/countries.shp\")"
   ]
  },
  {
   "cell_type": "code",
   "execution_count": 11,
   "metadata": {},
   "outputs": [
    {
     "data": {
      "text/plain": [
       "Text(0.5, 1, 'HospitalizedPatients')"
      ]
     },
     "execution_count": 11,
     "metadata": {},
     "output_type": "execute_result"
    },
    {
     "data": {
      "image/png": "[encoded data removed]",
      "text/plain": [
       "<Figure size 720x720 with 1 Axes>"
      ]
     },
     "metadata": {
      "needs_background": "light"
     },
     "output_type": "display_data"
    }
   ],
   "source": [
    "import matplotlib.pyplot as plt\n",
    "fig, ax = plt.subplots(figsize = (10,10))\n",
    "countries.to_crs(epsg=4326).plot(ax=ax, color='lightgrey')\n",
    "gdf.plot(ax=ax)\n",
    "ax.set_title('HospitalizedPatients')"
   ]
  },
  {
   "cell_type": "code",
   "execution_count": 16,
   "metadata": {},
   "outputs": [
    {
     "data": {
      "text/html": [
       "<div style=\"width:100%;\"><div style=\"position:relative;width:100%;height:0;padding-bottom:60%;\"><span style=\"color:#565656\">Make this Notebook Trusted to load map: File -> Trust Notebook</span><iframe src=\"about:blank\" style=\"position:absolute;width:100%;height:100%;left:0;top:0;border:none !important;\" data-html=%3C%21DOCTYPE%20html%3E%0A%3Chead%3E%20%20%20%20%0A%20%20%20%20%3Cmeta%20http-equiv%3D%22content-type%22%20content%3D%22text/html%3B%20charset%3DUTF-8%22%20/%3E%0A%20%20%20%20%0A%20%20%20%20%20%20%20%20%3Cscript%3E%0A%20%20%20%20%20%20%20%20%20%20%20%20L_NO_TOUCH%20%3D%20false%3B%0A%20%20%20%20%20%20%20%20%20%20%20%20L_DISABLE_3D%20%3D%20false%3B%0A%20%20%20%20%20%20%20%20%3C/script%3E%0A%20%20%20%20%0A%20%20%20%20%3Cstyle%3Ehtml%2C%20body%20%7Bwidth%3A%20100%25%3Bheight%3A%20100%25%3Bmargin%3A%200%3Bpadding%3A%200%3B%7D%3C/style%3E%0A%20%20%20%20%3Cstyle%3E%23map%20%7Bposition%3Aabsolute%3Btop%3A0%3Bbottom%3A0%3Bright%3A0%3Bleft%3A0%3B%7D%3C/style%3E%0A%20%20%20%20%3Cscript%20src%3D%22https%3A//cdn.jsdelivr.net/npm/leaflet%401.6.0/dist/leaflet.js%22%3E%3C/script%3E%0A%20%20%20%20%3Cscript%20src%3D%22https%3A//code.jquery.com/jquery-1.12.4.min.js%22%3E%3C/script%3E%0A%20%20%20%20%3Cscript%20src%3D%22https%3A//maxcdn.bootstrapcdn.com/bootstrap/3.2.0/js/bootstrap.min.js%22%3E%3C/script%3E%0A%20%20%20%20%3Cscript%20src%3D%22https%3A//cdnjs.cloudflare.com/ajax/libs/Leaflet.awesome-markers/2.0.2/leaflet.awesome-markers.js%22%3E%3C/script%3E%0A%20%20%20%20%3Clink%20rel%3D%22stylesheet%22%20href%3D%22https%3A//cdn.jsdelivr.net/npm/leaflet%401.6.0/dist/leaflet.css%22/%3E%0A%20%20%20%20%3Clink%20rel%3D%22stylesheet%22%20href%3D%22https%3A//maxcdn.bootstrapcdn.com/bootstrap/3.2.0/css/bootstrap.min.css%22/%3E%0A%20%20%20%20%3Clink%20rel%3D%22stylesheet%22%20href%3D%22https%3A//maxcdn.bootstrapcdn.com/bootstrap/3.2.0/css/bootstrap-theme.min.css%22/%3E%0A%20%20%20%20%3Clink%20rel%3D%22stylesheet%22%20href%3D%22https%3A//maxcdn.bootstrapcdn.com/font-awesome/4.6.3/css/font-awesome.min.css%22/%3E%0A%20%20%20%20%3Clink%20rel%3D%22stylesheet%22%20href%3D%22https%3A//cdnjs.cloudflare.com/ajax/libs/Leaflet.awesome-markers/2.0.2/leaflet.awesome-markers.css%22/%3E%0A%20%20%20%20%3Clink%20rel%3D%22stylesheet%22%20href%3D%22https%3A//cdn.jsdelivr.net/gh/python-visualization/folium/folium/templates/leaflet.awesome.rotate.min.css%22/%3E%0A%20%20%20%20%0A%20%20%20%20%20%20%20%20%20%20%20%20%3Cmeta%20name%3D%22viewport%22%20content%3D%22width%3Ddevice-width%2C%0A%20%20%20%20%20%20%20%20%20%20%20%20%20%20%20%20initial-scale%3D1.0%2C%20maximum-scale%3D1.0%2C%20user-scalable%3Dno%22%20/%3E%0A%20%20%20%20%20%20%20%20%20%20%20%20%3Cstyle%3E%0A%20%20%20%20%20%20%20%20%20%20%20%20%20%20%20%20%23map_4760e7a42f3d4082b7539f10eabbd66a%20%7B%0A%20%20%20%20%20%20%20%20%20%20%20%20%20%20%20%20%20%20%20%20position%3A%20relative%3B%0A%20%20%20%20%20%20%20%20%20%20%20%20%20%20%20%20%20%20%20%20width%3A%20100.0%25%3B%0A%20%20%20%20%20%20%20%20%20%20%20%20%20%20%20%20%20%20%20%20height%3A%20100.0%25%3B%0A%20%20%20%20%20%20%20%20%20%20%20%20%20%20%20%20%20%20%20%20left%3A%200.0%25%3B%0A%20%20%20%20%20%20%20%20%20%20%20%20%20%20%20%20%20%20%20%20top%3A%200.0%25%3B%0A%20%20%20%20%20%20%20%20%20%20%20%20%20%20%20%20%7D%0A%20%20%20%20%20%20%20%20%20%20%20%20%3C/style%3E%0A%20%20%20%20%20%20%20%20%0A%20%20%20%20%0A%20%20%20%20%20%20%20%20%20%20%20%20%20%20%20%20%20%20%20%20%3Cstyle%3E%0A%20%20%20%20%20%20%20%20%20%20%20%20%20%20%20%20%20%20%20%20%20%20%20%20.foliumtooltip%20%7B%0A%20%20%20%20%20%20%20%20%20%20%20%20%20%20%20%20%20%20%20%20%20%20%20%20%20%20%20%20%0A%20%20%20%20%20%20%20%20%20%20%20%20%20%20%20%20%20%20%20%20%20%20%20%20%7D%0A%20%20%20%20%20%20%20%20%20%20%20%20%20%20%20%20%20%20%20%20%20%20%20.foliumtooltip%20table%7B%0A%20%20%20%20%20%20%20%20%20%20%20%20%20%20%20%20%20%20%20%20%20%20%20%20%20%20%20%20margin%3A%20auto%3B%0A%20%20%20%20%20%20%20%20%20%20%20%20%20%20%20%20%20%20%20%20%20%20%20%20%7D%0A%20%20%20%20%20%20%20%20%20%20%20%20%20%20%20%20%20%20%20%20%20%20%20%20.foliumtooltip%20tr%7B%0A%20%20%20%20%20%20%20%20%20%20%20%20%20%20%20%20%20%20%20%20%20%20%20%20%20%20%20%20text-align%3A%20left%3B%0A%20%20%20%20%20%20%20%20%20%20%20%20%20%20%20%20%20%20%20%20%20%20%20%20%7D%0A%20%20%20%20%20%20%20%20%20%20%20%20%20%20%20%20%20%20%20%20%20%20%20%20.foliumtooltip%20th%7B%0A%20%20%20%20%20%20%20%20%20%20%20%20%20%20%20%20%20%20%20%20%20%20%20%20%20%20%20%20padding%3A%202px%3B%20padding-right%3A%208px%3B%0A%20%20%20%20%20%20%20%20%20%20%20%20%20%20%20%20%20%20%20%20%20%20%20%20%7D%0A%20%20%20%20%20%20%20%20%20%20%20%20%20%20%20%20%20%20%20%20%3C/style%3E%0A%20%20%20%20%20%20%20%20%20%20%20%20%0A%3C/head%3E%0A%3Cbody%3E%20%20%20%20%0A%20%20%20%20%0A%20%20%20%20%20%20%20%20%20%20%20%20%3Cdiv%20class%3D%22folium-map%22%20id%3D%22map_4760e7a42f3d4082b7539f10eabbd66a%22%20%3E%3C/div%3E%0A%20%20%20%20%20%20%20%20%0A%3C/body%3E%0A%3Cscript%3E%20%20%20%20%0A%20%20%20%20%0A%20%20%20%20%20%20%20%20%20%20%20%20var%20map_4760e7a42f3d4082b7539f10eabbd66a%20%3D%20L.map%28%0A%20%20%20%20%20%20%20%20%20%20%20%20%20%20%20%20%22map_4760e7a42f3d4082b7539f10eabbd66a%22%2C%0A%20%20%20%20%20%20%20%20%20%20%20%20%20%20%20%20%7B%0A%20%20%20%20%20%20%20%20%20%20%20%20%20%20%20%20%20%20%20%20center%3A%20%5B41.6589465%2C%2012.004214349999998%5D%2C%0A%20%20%20%20%20%20%20%20%20%20%20%20%20%20%20%20%20%20%20%20crs%3A%20L.CRS.EPSG3857%2C%0A%20%20%20%20%20%20%20%20%20%20%20%20%20%20%20%20%20%20%20%20zoom%3A%2010%2C%0A%20%20%20%20%20%20%20%20%20%20%20%20%20%20%20%20%20%20%20%20zoomControl%3A%20true%2C%0A%20%20%20%20%20%20%20%20%20%20%20%20%20%20%20%20%20%20%20%20preferCanvas%3A%20false%2C%0A%20%20%20%20%20%20%20%20%20%20%20%20%20%20%20%20%7D%0A%20%20%20%20%20%20%20%20%20%20%20%20%29%3B%0A%20%20%20%20%20%20%20%20%20%20%20%20L.control.scale%28%29.addTo%28map_4760e7a42f3d4082b7539f10eabbd66a%29%3B%0A%0A%20%20%20%20%20%20%20%20%20%20%20%20%0A%0A%20%20%20%20%20%20%20%20%0A%20%20%20%20%0A%20%20%20%20%20%20%20%20%20%20%20%20var%20tile_layer_1d1916be38334db19c038bc34a6a0fd3%20%3D%20L.tileLayer%28%0A%20%20%20%20%20%20%20%20%20%20%20%20%20%20%20%20%22https%3A//%7Bs%7D.tile.openstreetmap.org/%7Bz%7D/%7Bx%7D/%7By%7D.png%22%2C%0A%20%20%20%20%20%20%20%20%20%20%20%20%20%20%20%20%7B%22attribution%22%3A%20%22Data%20by%20%5Cu0026copy%3B%20%5Cu003ca%20href%3D%5C%22http%3A//openstreetmap.org%5C%22%5Cu003eOpenStreetMap%5Cu003c/a%5Cu003e%2C%20under%20%5Cu003ca%20href%3D%5C%22http%3A//www.openstreetmap.org/copyright%5C%22%5Cu003eODbL%5Cu003c/a%5Cu003e.%22%2C%20%22detectRetina%22%3A%20false%2C%20%22maxNativeZoom%22%3A%2018%2C%20%22maxZoom%22%3A%2018%2C%20%22minZoom%22%3A%200%2C%20%22noWrap%22%3A%20false%2C%20%22opacity%22%3A%201%2C%20%22subdomains%22%3A%20%22abc%22%2C%20%22tms%22%3A%20false%7D%0A%20%20%20%20%20%20%20%20%20%20%20%20%29.addTo%28map_4760e7a42f3d4082b7539f10eabbd66a%29%3B%0A%20%20%20%20%20%20%20%20%0A%20%20%20%20%0A%20%20%20%20%20%20%20%20%20%20%20%20map_4760e7a42f3d4082b7539f10eabbd66a.fitBounds%28%0A%20%20%20%20%20%20%20%20%20%20%20%20%20%20%20%20%5B%5B37.587794%2C%207.387426%5D%2C%20%5B45.730099%2C%2016.6210027%5D%5D%2C%0A%20%20%20%20%20%20%20%20%20%20%20%20%20%20%20%20%7B%7D%0A%20%20%20%20%20%20%20%20%20%20%20%20%29%3B%0A%20%20%20%20%20%20%20%20%0A%20%20%20%20%0A%20%20%20%20%20%20%20%20function%20geo_json_26d51b61c31e4348aa4753e8a98f7e76_styler%28feature%29%20%7B%0A%20%20%20%20%20%20%20%20%20%20%20%20switch%28feature.id%29%20%7B%0A%20%20%20%20%20%20%20%20%20%20%20%20%20%20%20%20default%3A%0A%20%20%20%20%20%20%20%20%20%20%20%20%20%20%20%20%20%20%20%20return%20%7B%22fillOpacity%22%3A%200.5%2C%20%22weight%22%3A%202%7D%3B%0A%20%20%20%20%20%20%20%20%20%20%20%20%7D%0A%20%20%20%20%20%20%20%20%7D%0A%20%20%20%20%20%20%20%20function%20geo_json_26d51b61c31e4348aa4753e8a98f7e76_highlighter%28feature%29%20%7B%0A%20%20%20%20%20%20%20%20%20%20%20%20switch%28feature.id%29%20%7B%0A%20%20%20%20%20%20%20%20%20%20%20%20%20%20%20%20default%3A%0A%20%20%20%20%20%20%20%20%20%20%20%20%20%20%20%20%20%20%20%20return%20%7B%22fillOpacity%22%3A%200.75%7D%3B%0A%20%20%20%20%20%20%20%20%20%20%20%20%7D%0A%20%20%20%20%20%20%20%20%7D%0A%20%20%20%20%20%20%20%20function%20geo_json_26d51b61c31e4348aa4753e8a98f7e76_pointToLayer%28feature%2C%20latlng%29%20%7B%0A%20%20%20%20%20%20%20%20%20%20%20%20var%20opts%20%3D%20%7B%22bubblingMouseEvents%22%3A%20true%2C%20%22color%22%3A%20%22%233388ff%22%2C%20%22dashArray%22%3A%20null%2C%20%22dashOffset%22%3A%20null%2C%20%22fill%22%3A%20true%2C%20%22fillColor%22%3A%20%22%233388ff%22%2C%20%22fillOpacity%22%3A%200.2%2C%20%22fillRule%22%3A%20%22evenodd%22%2C%20%22lineCap%22%3A%20%22round%22%2C%20%22lineJoin%22%3A%20%22round%22%2C%20%22opacity%22%3A%201.0%2C%20%22radius%22%3A%202%2C%20%22stroke%22%3A%20true%2C%20%22weight%22%3A%203%7D%3B%0A%20%20%20%20%20%20%20%20%20%20%20%20%0A%20%20%20%20%20%20%20%20%20%20%20%20let%20style%20%3D%20geo_json_26d51b61c31e4348aa4753e8a98f7e76_styler%28feature%29%0A%20%20%20%20%20%20%20%20%20%20%20%20Object.assign%28opts%2C%20style%29%0A%20%20%20%20%20%20%20%20%20%20%20%20%0A%20%20%20%20%20%20%20%20%20%20%20%20return%20new%20L.CircleMarker%28latlng%2C%20opts%29%0A%20%20%20%20%20%20%20%20%7D%0A%0A%20%20%20%20%20%20%20%20function%20geo_json_26d51b61c31e4348aa4753e8a98f7e76_onEachFeature%28feature%2C%20layer%29%20%7B%0A%20%20%20%20%20%20%20%20%20%20%20%20layer.on%28%7B%0A%20%20%20%20%20%20%20%20%20%20%20%20%20%20%20%20mouseout%3A%20function%28e%29%20%7B%0A%20%20%20%20%20%20%20%20%20%20%20%20%20%20%20%20%20%20%20%20if%28typeof%20e.target.setStyle%20%3D%3D%3D%20%22function%22%29%7B%0A%20%20%20%20%20%20%20%20%20%20%20%20%20%20%20%20%20%20%20%20%20%20%20%20geo_json_26d51b61c31e4348aa4753e8a98f7e76.resetStyle%28e.target%29%3B%0A%20%20%20%20%20%20%20%20%20%20%20%20%20%20%20%20%20%20%20%20%7D%0A%20%20%20%20%20%20%20%20%20%20%20%20%20%20%20%20%7D%2C%0A%20%20%20%20%20%20%20%20%20%20%20%20%20%20%20%20mouseover%3A%20function%28e%29%20%7B%0A%20%20%20%20%20%20%20%20%20%20%20%20%20%20%20%20%20%20%20%20if%28typeof%20e.target.setStyle%20%3D%3D%3D%20%22function%22%29%7B%0A%20%20%20%20%20%20%20%20%20%20%20%20%20%20%20%20%20%20%20%20%20%20%20%20const%20highlightStyle%20%3D%20geo_json_26d51b61c31e4348aa4753e8a98f7e76_highlighter%28e.target.feature%29%0A%20%20%20%20%20%20%20%20%20%20%20%20%20%20%20%20%20%20%20%20%20%20%20%20e.target.setStyle%28highlightStyle%29%3B%0A%20%20%20%20%20%20%20%20%20%20%20%20%20%20%20%20%20%20%20%20%7D%0A%20%20%20%20%20%20%20%20%20%20%20%20%20%20%20%20%7D%2C%0A%20%20%20%20%20%20%20%20%20%20%20%20%7D%29%3B%0A%20%20%20%20%20%20%20%20%7D%3B%0A%20%20%20%20%20%20%20%20var%20geo_json_26d51b61c31e4348aa4753e8a98f7e76%20%3D%20L.geoJson%28null%2C%20%7B%0A%20%20%20%20%20%20%20%20%20%20%20%20%20%20%20%20onEachFeature%3A%20geo_json_26d51b61c31e4348aa4753e8a98f7e76_onEachFeature%2C%0A%20%20%20%20%20%20%20%20%20%20%20%20%0A%20%20%20%20%20%20%20%20%20%20%20%20%20%20%20%20style%3A%20geo_json_26d51b61c31e4348aa4753e8a98f7e76_styler%2C%0A%20%20%20%20%20%20%20%20%20%20%20%20%20%20%20%20pointToLayer%3A%20geo_json_26d51b61c31e4348aa4753e8a98f7e76_pointToLayer%0A%20%20%20%20%20%20%20%20%7D%29%3B%0A%0A%20%20%20%20%20%20%20%20function%20geo_json_26d51b61c31e4348aa4753e8a98f7e76_add%20%28data%29%20%7B%0A%20%20%20%20%20%20%20%20%20%20%20%20geo_json_26d51b61c31e4348aa4753e8a98f7e76%0A%20%20%20%20%20%20%20%20%20%20%20%20%20%20%20%20.addData%28data%29%0A%20%20%20%20%20%20%20%20%20%20%20%20%20%20%20%20.addTo%28map_4760e7a42f3d4082b7539f10eabbd66a%29%3B%0A%20%20%20%20%20%20%20%20%7D%0A%20%20%20%20%20%20%20%20%20%20%20%20geo_json_26d51b61c31e4348aa4753e8a98f7e76_add%28%7B%22bbox%22%3A%20%5B7.387426%2C%2037.587794%2C%2016.6210027%2C%2045.730099%5D%2C%20%22features%22%3A%20%5B%7B%22bbox%22%3A%20%5B13.854983%2C%2042.227681%2C%2013.854983%2C%2042.227681%5D%2C%20%22geometry%22%3A%20%7B%22coordinates%22%3A%20%5B13.854983%2C%2042.227681%5D%2C%20%22type%22%3A%20%22Point%22%7D%2C%20%22id%22%3A%20%220%22%2C%20%22properties%22%3A%20%7B%22HospitalizedPatients%22%3A%2028.0%2C%20%22RegionName%22%3A%20%22Abruzzo%22%7D%2C%20%22type%22%3A%20%22Feature%22%7D%2C%20%7B%22bbox%22%3A%20%5B16.5249864%2C%2039.0565974%2C%2016.5249864%2C%2039.0565974%5D%2C%20%22geometry%22%3A%20%7B%22coordinates%22%3A%20%5B16.5249864%2C%2039.0565974%5D%2C%20%22type%22%3A%20%22Point%22%7D%2C%20%22id%22%3A%20%221%22%2C%20%22properties%22%3A%20%7B%22HospitalizedPatients%22%3A%20125.0%2C%20%22RegionName%22%3A%20%22Calabria%22%7D%2C%20%22type%22%3A%20%22Feature%22%7D%2C%20%7B%22bbox%22%3A%20%5B14.843984%2C%2040.860672%2C%2014.843984%2C%2040.860672%5D%2C%20%22geometry%22%3A%20%7B%22coordinates%22%3A%20%5B14.843984%2C%2040.860672%5D%2C%20%22type%22%3A%20%22Point%22%7D%2C%20%22id%22%3A%20%222%22%2C%20%22properties%22%3A%20%7B%22HospitalizedPatients%22%3A%2053.0%2C%20%22RegionName%22%3A%20%22Campania%22%7D%2C%20%22type%22%3A%20%22Feature%22%7D%2C%20%7B%22bbox%22%3A%20%5B11.039437%2C%2044.525696%2C%2011.039437%2C%2044.525696%5D%2C%20%22geometry%22%3A%20%7B%22coordinates%22%3A%20%5B11.039437%2C%2044.525696%5D%2C%20%22type%22%3A%20%22Point%22%7D%2C%20%22id%22%3A%20%223%22%2C%20%22properties%22%3A%20%7B%22HospitalizedPatients%22%3A%201933.5%2C%20%22RegionName%22%3A%20%22Emilia-Romagna%22%7D%2C%20%22type%22%3A%20%22Feature%22%7D%2C%20%7B%22bbox%22%3A%20%5B8.7026296%2C%2044.4777617%2C%208.7026296%2C%2044.4777617%5D%2C%20%22geometry%22%3A%20%7B%22coordinates%22%3A%20%5B8.7026296%2C%2044.4777617%5D%2C%20%22type%22%3A%20%22Point%22%7D%2C%20%22id%22%3A%20%224%22%2C%20%22properties%22%3A%20%7B%22HospitalizedPatients%22%3A%20136.0%2C%20%22RegionName%22%3A%20%22Liguria%22%7D%2C%20%22type%22%3A%20%22Feature%22%7D%2C%20%7B%22bbox%22%3A%20%5B13.1415872%2C%2043.3458388%2C%2013.1415872%2C%2043.3458388%5D%2C%20%22geometry%22%3A%20%7B%22coordinates%22%3A%20%5B13.1415872%2C%2043.3458388%5D%2C%20%22type%22%3A%20%22Point%22%7D%2C%20%22id%22%3A%20%225%22%2C%20%22properties%22%3A%20%7B%22HospitalizedPatients%22%3A%2067.0%2C%20%22RegionName%22%3A%20%22Marche%22%7D%2C%20%22type%22%3A%20%22Feature%22%7D%2C%20%7B%22bbox%22%3A%20%5B14.248933%2C%2040.8371374%2C%2014.248933%2C%2040.8371374%5D%2C%20%22geometry%22%3A%20%7B%22coordinates%22%3A%20%5B14.248933%2C%2040.8371374%5D%2C%20%22type%22%3A%20%22Point%22%7D%2C%20%22id%22%3A%20%226%22%2C%20%22properties%22%3A%20%7B%22HospitalizedPatients%22%3A%20142.0%2C%20%22RegionName%22%3A%20%22P.A.%20Trento%22%7D%2C%20%22type%22%3A%20%22Feature%22%7D%2C%20%7B%22bbox%22%3A%20%5B16.6210027%2C%2040.9842539%2C%2016.6210027%2C%2040.9842539%5D%2C%20%22geometry%22%3A%20%7B%22coordinates%22%3A%20%5B16.6210027%2C%2040.9842539%5D%2C%20%22type%22%3A%20%22Point%22%7D%2C%20%22id%22%3A%20%227%22%2C%20%22properties%22%3A%20%7B%22HospitalizedPatients%22%3A%20390.5%2C%20%22RegionName%22%3A%20%22Puglia%22%7D%2C%20%22type%22%3A%20%22Feature%22%7D%2C%20%7B%22bbox%22%3A%20%5B9.0305773%2C%2040.0912813%2C%209.0305773%2C%2040.0912813%5D%2C%20%22geometry%22%3A%20%7B%22coordinates%22%3A%20%5B9.0305773%2C%2040.0912813%5D%2C%20%22type%22%3A%20%22Point%22%7D%2C%20%22id%22%3A%20%228%22%2C%20%22properties%22%3A%20%7B%22HospitalizedPatients%22%3A%2062.5%2C%20%22RegionName%22%3A%20%22Sardegna%22%7D%2C%20%22type%22%3A%20%22Feature%22%7D%2C%20%7B%22bbox%22%3A%20%5B14.155048%2C%2037.587794%2C%2014.155048%2C%2037.587794%5D%2C%20%22geometry%22%3A%20%7B%22coordinates%22%3A%20%5B14.155048%2C%2037.587794%5D%2C%20%22type%22%3A%20%22Point%22%7D%2C%20%22id%22%3A%20%229%22%2C%20%22properties%22%3A%20%7B%22HospitalizedPatients%22%3A%2045.0%2C%20%22RegionName%22%3A%20%22Sicilia%22%7D%2C%20%22type%22%3A%20%22Feature%22%7D%2C%20%7B%22bbox%22%3A%20%5B12.490236%2C%2042.965916%2C%2012.490236%2C%2042.965916%5D%2C%20%22geometry%22%3A%20%7B%22coordinates%22%3A%20%5B12.490236%2C%2042.965916%5D%2C%20%22type%22%3A%20%22Point%22%7D%2C%20%22id%22%3A%20%2210%22%2C%20%22properties%22%3A%20%7B%22HospitalizedPatients%22%3A%2025.0%2C%20%22RegionName%22%3A%20%22Umbria%22%7D%2C%20%22type%22%3A%20%22Feature%22%7D%2C%20%7B%22bbox%22%3A%20%5B7.387426%2C%2045.730099%2C%207.387426%2C%2045.730099%5D%2C%20%22geometry%22%3A%20%7B%22coordinates%22%3A%20%5B7.387426%2C%2045.730099%5D%2C%20%22type%22%3A%20%22Point%22%7D%2C%20%22id%22%3A%20%2211%22%2C%20%22properties%22%3A%20%7B%22HospitalizedPatients%22%3A%201.5%2C%20%22RegionName%22%3A%20%22Valle%20d%5Cu0027Aosta%22%7D%2C%20%22type%22%3A%20%22Feature%22%7D%2C%20%7B%22bbox%22%3A%20%5B11.8665254%2C%2045.6476663%2C%2011.8665254%2C%2045.6476663%5D%2C%20%22geometry%22%3A%20%7B%22coordinates%22%3A%20%5B11.8665254%2C%2045.6476663%5D%2C%20%22type%22%3A%20%22Point%22%7D%2C%20%22id%22%3A%20%2212%22%2C%20%22properties%22%3A%20%7B%22HospitalizedPatients%22%3A%201231.5%2C%20%22RegionName%22%3A%20%22Veneto%22%7D%2C%20%22type%22%3A%20%22Feature%22%7D%5D%2C%20%22type%22%3A%20%22FeatureCollection%22%7D%29%3B%0A%0A%20%20%20%20%20%20%20%20%0A%20%20%20%20%0A%20%20%20%20geo_json_26d51b61c31e4348aa4753e8a98f7e76.bindTooltip%28%0A%20%20%20%20function%28layer%29%7B%0A%20%20%20%20let%20div%20%3D%20L.DomUtil.create%28%27div%27%29%3B%0A%20%20%20%20%0A%20%20%20%20let%20handleObject%20%3D%20feature%3D%3Etypeof%28feature%29%3D%3D%27object%27%20%3F%20JSON.stringify%28feature%29%20%3A%20feature%3B%0A%20%20%20%20let%20fields%20%3D%20%5B%22RegionName%22%2C%20%22HospitalizedPatients%22%5D%3B%0A%20%20%20%20let%20aliases%20%3D%20%5B%22RegionName%22%2C%20%22HospitalizedPatients%22%5D%3B%0A%20%20%20%20let%20table%20%3D%20%27%3Ctable%3E%27%20%2B%0A%20%20%20%20%20%20%20%20String%28%0A%20%20%20%20%20%20%20%20fields.map%28%0A%20%20%20%20%20%20%20%20%28v%2Ci%29%3D%3E%0A%20%20%20%20%20%20%20%20%60%3Ctr%3E%0A%20%20%20%20%20%20%20%20%20%20%20%20%3Cth%3E%24%7Baliases%5Bi%5D%7D%3C/th%3E%0A%20%20%20%20%20%20%20%20%20%20%20%20%0A%20%20%20%20%20%20%20%20%20%20%20%20%3Ctd%3E%24%7BhandleObject%28layer.feature.properties%5Bv%5D%29%7D%3C/td%3E%0A%20%20%20%20%20%20%20%20%3C/tr%3E%60%29.join%28%27%27%29%29%0A%20%20%20%20%2B%27%3C/table%3E%27%3B%0A%20%20%20%20div.innerHTML%3Dtable%3B%0A%20%20%20%20%0A%20%20%20%20return%20div%0A%20%20%20%20%7D%0A%20%20%20%20%2C%7B%22className%22%3A%20%22foliumtooltip%22%2C%20%22sticky%22%3A%20true%7D%29%3B%0A%20%20%20%20%20%20%20%20%20%20%20%20%20%20%20%20%20%20%20%20%20%0A%3C/script%3E onload=\"this.contentDocument.open();this.contentDocument.write(    decodeURIComponent(this.getAttribute('data-html')));this.contentDocument.close();\" allowfullscreen webkitallowfullscreen mozallowfullscreen></iframe></div></div>"
      ],
      "text/plain": [
       "<folium.folium.Map at 0x173f4d300d0>"
      ]
     },
     "execution_count": 16,
     "metadata": {},
     "output_type": "execute_result"
    }
   ],
   "source": [
    "gdf.explore()"
   ]
  }
 ],
 "metadata": {
  "interpreter": {
   "hash": "34c9a9d5ac8fd24ba68c1022c14208806afa43d9d3639edb9a38f7128fa6b120"
  },
  "kernelspec": {
   "display_name": "Python 3.9.10 ('datasci')",
   "language": "python",
   "name": "python3"
  },
  "language_info": {
   "codemirror_mode": {
    "name": "ipython",
    "version": 3
   },
   "file_extension": ".py",
   "mimetype": "text/x-python",
   "name": "python",
   "nbconvert_exporter": "python",
   "pygments_lexer": "ipython3",
   "version": "3.8.12"
  },
  "orig_nbformat": 4
 },
 "nbformat": 4,
 "nbformat_minor": 2
}
